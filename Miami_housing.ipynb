{
  "cells": [
    {
      "cell_type": "markdown",
      "metadata": {
        "id": "view-in-github",
        "colab_type": "text"
      },
      "source": [
        "<a href=\"https://colab.research.google.com/github/Daarwinmendez/Miami_housing_price_prediction/blob/main/Miami_housing.ipynb\" target=\"_parent\"><img src=\"https://colab.research.google.com/assets/colab-badge.svg\" alt=\"Open In Colab\"/></a>"
      ]
    },
    {
      "cell_type": "code",
      "execution_count": null,
      "metadata": {
        "id": "a_6o2jmppiGD"
      },
      "outputs": [],
      "source": [
        "import pandas as pd\n",
        "import sklearn as sk\n",
        "import matplotlib.pyplot as plt\n",
        "import numpy as np\n",
        "import seaborn as sns\n",
        "\n",
        "%matplotlib inline\n",
        "plt.style.use(\"ggplot\")"
      ]
    },
    {
      "cell_type": "markdown",
      "metadata": {
        "id": "wR8xonxcpvKz"
      },
      "source": [
        "## MIAMI HOUSING DATASET\n",
        "\n",
        "This dataset was sourced from Kaggle, specifically from this link: https://www.kaggle.com/datasets/deepcontractor/miami-housing-dataset\n",
        "\n",
        "Special thanks to DeepContractor for making this dataset available.\n",
        "\n",
        "Thanks to DeepContractor I'm bringing this here today.\n",
        "\n",
        "\n",
        "The dataset contains the following columns:\n",
        "\n",
        "* PARCELNO: unique identifier for each property. About 1% appear multiple times.\n",
        "* SALE_PRC: sale price ($)\n",
        "\n",
        "* LND_SQFOOT: land area (square feet)\n",
        "* TOT_LVG_AREA: floor area (square feet)\n",
        "* SPEC_FEAT_VAL: value of special features (e.g., swimming pools) ($)\n",
        "* RAIL_DIST: distance to the nearest rail line (an indicator of noise) (feet)\n",
        "* OCEAN_DIST: distance to the ocean (feet)\n",
        "* WATER_DIST: distance to the nearest body of water (feet)\n",
        "* CNTR_DIST: distance to the Miami central business district (feet)\n",
        "* SUBCNTR_DI: distance to the nearest subcenter (feet)\n",
        "* HWY_DIST: distance to the nearest highway (an indicator of noise) (feet)\n",
        "* age: age of the structure\n",
        "* avno60plus: dummy variable for airplane noise exceeding an acceptable level\n",
        "* structure_quality: quality of the structure\n",
        "* month_sold: sale month in 2016 (1 = jan)\n",
        "* LATITUDE\n",
        "* LONGITUDE"
      ]
    },
    {
      "cell_type": "code",
      "source": [
        "# Download the dataset from Kaggle\n",
        "!kaggle datasets download -d deepcontractor/miami-housing-dataset\n"
      ],
      "metadata": {
        "colab": {
          "base_uri": "https://localhost:8080/"
        },
        "id": "jnZYEUwzJw4p",
        "outputId": "99d4995c-eac0-4a2b-bf24-91adaeb1d470"
      },
      "execution_count": null,
      "outputs": [
        {
          "output_type": "stream",
          "name": "stdout",
          "text": [
            "Dataset URL: https://www.kaggle.com/datasets/deepcontractor/miami-housing-dataset\n",
            "License(s): CC0-1.0\n",
            "miami-housing-dataset.zip: Skipping, found more recently modified local copy (use --force to force download)\n"
          ]
        }
      ]
    },
    {
      "cell_type": "code",
      "source": [
        "# Uncompress the kaggle dataset\n",
        "!unzip miami-housing-dataset.zip"
      ],
      "metadata": {
        "colab": {
          "base_uri": "https://localhost:8080/"
        },
        "id": "4dRFESufKKaW",
        "outputId": "e2234efc-08b9-4437-e630-48a71ff1ad35"
      },
      "execution_count": null,
      "outputs": [
        {
          "output_type": "stream",
          "name": "stdout",
          "text": [
            "Archive:  miami-housing-dataset.zip\n",
            "  inflating: miami-housing.csv       \n"
          ]
        }
      ]
    },
    {
      "cell_type": "code",
      "execution_count": null,
      "metadata": {
        "id": "KC6Y3f-R5SWc"
      },
      "outputs": [],
      "source": [
        "  # Import the data\n",
        "housing_df = pd.read_csv(\"miami-housing.csv\")"
      ]
    },
    {
      "cell_type": "code",
      "execution_count": null,
      "metadata": {
        "colab": {
          "base_uri": "https://localhost:8080/",
          "height": 224
        },
        "id": "9-BNSw025U1S",
        "outputId": "5a6299f5-bd67-4b60-ab0b-a671e285ae7b"
      },
      "outputs": [
        {
          "output_type": "execute_result",
          "data": {
            "text/plain": [
              "    LATITUDE  LONGITUDE      PARCELNO  SALE_PRC  LND_SQFOOT  TOT_LVG_AREA  \\\n",
              "0  25.891031 -80.160561  622280070620  440000.0        9375          1753   \n",
              "1  25.891324 -80.153968  622280100460  349000.0        9375          1715   \n",
              "2  25.891334 -80.153740  622280100470  800000.0        9375          2276   \n",
              "3  25.891765 -80.152657  622280100530  988000.0       12450          2058   \n",
              "4  25.891825 -80.154639  622280100200  755000.0       12800          1684   \n",
              "\n",
              "   SPEC_FEAT_VAL  RAIL_DIST  OCEAN_DIST  WATER_DIST  CNTR_DIST  SUBCNTR_DI  \\\n",
              "0              0     2815.9     12811.4       347.6    42815.3     37742.2   \n",
              "1              0     4359.1     10648.4       337.8    43504.9     37340.5   \n",
              "2          49206     4412.9     10574.1       297.1    43530.4     37328.7   \n",
              "3          10033     4585.0     10156.5         0.0    43797.5     37423.2   \n",
              "4          16681     4063.4     10836.8       326.6    43599.7     37550.8   \n",
              "\n",
              "   HWY_DIST  age  avno60plus  month_sold  structure_quality  \n",
              "0   15954.9   67           0           8                  4  \n",
              "1   18125.0   63           0           9                  4  \n",
              "2   18200.5   61           0           2                  4  \n",
              "3   18514.4   63           0           9                  4  \n",
              "4   17903.4   42           0           7                  4  "
            ],
            "text/html": [
              "\n",
              "  <div id=\"df-5b059246-b394-4e15-b725-b01c56cfff1f\" class=\"colab-df-container\">\n",
              "    <div>\n",
              "<style scoped>\n",
              "    .dataframe tbody tr th:only-of-type {\n",
              "        vertical-align: middle;\n",
              "    }\n",
              "\n",
              "    .dataframe tbody tr th {\n",
              "        vertical-align: top;\n",
              "    }\n",
              "\n",
              "    .dataframe thead th {\n",
              "        text-align: right;\n",
              "    }\n",
              "</style>\n",
              "<table border=\"1\" class=\"dataframe\">\n",
              "  <thead>\n",
              "    <tr style=\"text-align: right;\">\n",
              "      <th></th>\n",
              "      <th>LATITUDE</th>\n",
              "      <th>LONGITUDE</th>\n",
              "      <th>PARCELNO</th>\n",
              "      <th>SALE_PRC</th>\n",
              "      <th>LND_SQFOOT</th>\n",
              "      <th>TOT_LVG_AREA</th>\n",
              "      <th>SPEC_FEAT_VAL</th>\n",
              "      <th>RAIL_DIST</th>\n",
              "      <th>OCEAN_DIST</th>\n",
              "      <th>WATER_DIST</th>\n",
              "      <th>CNTR_DIST</th>\n",
              "      <th>SUBCNTR_DI</th>\n",
              "      <th>HWY_DIST</th>\n",
              "      <th>age</th>\n",
              "      <th>avno60plus</th>\n",
              "      <th>month_sold</th>\n",
              "      <th>structure_quality</th>\n",
              "    </tr>\n",
              "  </thead>\n",
              "  <tbody>\n",
              "    <tr>\n",
              "      <th>0</th>\n",
              "      <td>25.891031</td>\n",
              "      <td>-80.160561</td>\n",
              "      <td>622280070620</td>\n",
              "      <td>440000.0</td>\n",
              "      <td>9375</td>\n",
              "      <td>1753</td>\n",
              "      <td>0</td>\n",
              "      <td>2815.9</td>\n",
              "      <td>12811.4</td>\n",
              "      <td>347.6</td>\n",
              "      <td>42815.3</td>\n",
              "      <td>37742.2</td>\n",
              "      <td>15954.9</td>\n",
              "      <td>67</td>\n",
              "      <td>0</td>\n",
              "      <td>8</td>\n",
              "      <td>4</td>\n",
              "    </tr>\n",
              "    <tr>\n",
              "      <th>1</th>\n",
              "      <td>25.891324</td>\n",
              "      <td>-80.153968</td>\n",
              "      <td>622280100460</td>\n",
              "      <td>349000.0</td>\n",
              "      <td>9375</td>\n",
              "      <td>1715</td>\n",
              "      <td>0</td>\n",
              "      <td>4359.1</td>\n",
              "      <td>10648.4</td>\n",
              "      <td>337.8</td>\n",
              "      <td>43504.9</td>\n",
              "      <td>37340.5</td>\n",
              "      <td>18125.0</td>\n",
              "      <td>63</td>\n",
              "      <td>0</td>\n",
              "      <td>9</td>\n",
              "      <td>4</td>\n",
              "    </tr>\n",
              "    <tr>\n",
              "      <th>2</th>\n",
              "      <td>25.891334</td>\n",
              "      <td>-80.153740</td>\n",
              "      <td>622280100470</td>\n",
              "      <td>800000.0</td>\n",
              "      <td>9375</td>\n",
              "      <td>2276</td>\n",
              "      <td>49206</td>\n",
              "      <td>4412.9</td>\n",
              "      <td>10574.1</td>\n",
              "      <td>297.1</td>\n",
              "      <td>43530.4</td>\n",
              "      <td>37328.7</td>\n",
              "      <td>18200.5</td>\n",
              "      <td>61</td>\n",
              "      <td>0</td>\n",
              "      <td>2</td>\n",
              "      <td>4</td>\n",
              "    </tr>\n",
              "    <tr>\n",
              "      <th>3</th>\n",
              "      <td>25.891765</td>\n",
              "      <td>-80.152657</td>\n",
              "      <td>622280100530</td>\n",
              "      <td>988000.0</td>\n",
              "      <td>12450</td>\n",
              "      <td>2058</td>\n",
              "      <td>10033</td>\n",
              "      <td>4585.0</td>\n",
              "      <td>10156.5</td>\n",
              "      <td>0.0</td>\n",
              "      <td>43797.5</td>\n",
              "      <td>37423.2</td>\n",
              "      <td>18514.4</td>\n",
              "      <td>63</td>\n",
              "      <td>0</td>\n",
              "      <td>9</td>\n",
              "      <td>4</td>\n",
              "    </tr>\n",
              "    <tr>\n",
              "      <th>4</th>\n",
              "      <td>25.891825</td>\n",
              "      <td>-80.154639</td>\n",
              "      <td>622280100200</td>\n",
              "      <td>755000.0</td>\n",
              "      <td>12800</td>\n",
              "      <td>1684</td>\n",
              "      <td>16681</td>\n",
              "      <td>4063.4</td>\n",
              "      <td>10836.8</td>\n",
              "      <td>326.6</td>\n",
              "      <td>43599.7</td>\n",
              "      <td>37550.8</td>\n",
              "      <td>17903.4</td>\n",
              "      <td>42</td>\n",
              "      <td>0</td>\n",
              "      <td>7</td>\n",
              "      <td>4</td>\n",
              "    </tr>\n",
              "  </tbody>\n",
              "</table>\n",
              "</div>\n",
              "    <div class=\"colab-df-buttons\">\n",
              "\n",
              "  <div class=\"colab-df-container\">\n",
              "    <button class=\"colab-df-convert\" onclick=\"convertToInteractive('df-5b059246-b394-4e15-b725-b01c56cfff1f')\"\n",
              "            title=\"Convert this dataframe to an interactive table.\"\n",
              "            style=\"display:none;\">\n",
              "\n",
              "  <svg xmlns=\"http://www.w3.org/2000/svg\" height=\"24px\" viewBox=\"0 -960 960 960\">\n",
              "    <path d=\"M120-120v-720h720v720H120Zm60-500h600v-160H180v160Zm220 220h160v-160H400v160Zm0 220h160v-160H400v160ZM180-400h160v-160H180v160Zm440 0h160v-160H620v160ZM180-180h160v-160H180v160Zm440 0h160v-160H620v160Z\"/>\n",
              "  </svg>\n",
              "    </button>\n",
              "\n",
              "  <style>\n",
              "    .colab-df-container {\n",
              "      display:flex;\n",
              "      gap: 12px;\n",
              "    }\n",
              "\n",
              "    .colab-df-convert {\n",
              "      background-color: #E8F0FE;\n",
              "      border: none;\n",
              "      border-radius: 50%;\n",
              "      cursor: pointer;\n",
              "      display: none;\n",
              "      fill: #1967D2;\n",
              "      height: 32px;\n",
              "      padding: 0 0 0 0;\n",
              "      width: 32px;\n",
              "    }\n",
              "\n",
              "    .colab-df-convert:hover {\n",
              "      background-color: #E2EBFA;\n",
              "      box-shadow: 0px 1px 2px rgba(60, 64, 67, 0.3), 0px 1px 3px 1px rgba(60, 64, 67, 0.15);\n",
              "      fill: #174EA6;\n",
              "    }\n",
              "\n",
              "    .colab-df-buttons div {\n",
              "      margin-bottom: 4px;\n",
              "    }\n",
              "\n",
              "    [theme=dark] .colab-df-convert {\n",
              "      background-color: #3B4455;\n",
              "      fill: #D2E3FC;\n",
              "    }\n",
              "\n",
              "    [theme=dark] .colab-df-convert:hover {\n",
              "      background-color: #434B5C;\n",
              "      box-shadow: 0px 1px 3px 1px rgba(0, 0, 0, 0.15);\n",
              "      filter: drop-shadow(0px 1px 2px rgba(0, 0, 0, 0.3));\n",
              "      fill: #FFFFFF;\n",
              "    }\n",
              "  </style>\n",
              "\n",
              "    <script>\n",
              "      const buttonEl =\n",
              "        document.querySelector('#df-5b059246-b394-4e15-b725-b01c56cfff1f button.colab-df-convert');\n",
              "      buttonEl.style.display =\n",
              "        google.colab.kernel.accessAllowed ? 'block' : 'none';\n",
              "\n",
              "      async function convertToInteractive(key) {\n",
              "        const element = document.querySelector('#df-5b059246-b394-4e15-b725-b01c56cfff1f');\n",
              "        const dataTable =\n",
              "          await google.colab.kernel.invokeFunction('convertToInteractive',\n",
              "                                                    [key], {});\n",
              "        if (!dataTable) return;\n",
              "\n",
              "        const docLinkHtml = 'Like what you see? Visit the ' +\n",
              "          '<a target=\"_blank\" href=https://colab.research.google.com/notebooks/data_table.ipynb>data table notebook</a>'\n",
              "          + ' to learn more about interactive tables.';\n",
              "        element.innerHTML = '';\n",
              "        dataTable['output_type'] = 'display_data';\n",
              "        await google.colab.output.renderOutput(dataTable, element);\n",
              "        const docLink = document.createElement('div');\n",
              "        docLink.innerHTML = docLinkHtml;\n",
              "        element.appendChild(docLink);\n",
              "      }\n",
              "    </script>\n",
              "  </div>\n",
              "\n",
              "\n",
              "<div id=\"df-4f11f91f-7440-40d9-afcf-9c2af3f81e83\">\n",
              "  <button class=\"colab-df-quickchart\" onclick=\"quickchart('df-4f11f91f-7440-40d9-afcf-9c2af3f81e83')\"\n",
              "            title=\"Suggest charts\"\n",
              "            style=\"display:none;\">\n",
              "\n",
              "<svg xmlns=\"http://www.w3.org/2000/svg\" height=\"24px\"viewBox=\"0 0 24 24\"\n",
              "     width=\"24px\">\n",
              "    <g>\n",
              "        <path d=\"M19 3H5c-1.1 0-2 .9-2 2v14c0 1.1.9 2 2 2h14c1.1 0 2-.9 2-2V5c0-1.1-.9-2-2-2zM9 17H7v-7h2v7zm4 0h-2V7h2v10zm4 0h-2v-4h2v4z\"/>\n",
              "    </g>\n",
              "</svg>\n",
              "  </button>\n",
              "\n",
              "<style>\n",
              "  .colab-df-quickchart {\n",
              "      --bg-color: #E8F0FE;\n",
              "      --fill-color: #1967D2;\n",
              "      --hover-bg-color: #E2EBFA;\n",
              "      --hover-fill-color: #174EA6;\n",
              "      --disabled-fill-color: #AAA;\n",
              "      --disabled-bg-color: #DDD;\n",
              "  }\n",
              "\n",
              "  [theme=dark] .colab-df-quickchart {\n",
              "      --bg-color: #3B4455;\n",
              "      --fill-color: #D2E3FC;\n",
              "      --hover-bg-color: #434B5C;\n",
              "      --hover-fill-color: #FFFFFF;\n",
              "      --disabled-bg-color: #3B4455;\n",
              "      --disabled-fill-color: #666;\n",
              "  }\n",
              "\n",
              "  .colab-df-quickchart {\n",
              "    background-color: var(--bg-color);\n",
              "    border: none;\n",
              "    border-radius: 50%;\n",
              "    cursor: pointer;\n",
              "    display: none;\n",
              "    fill: var(--fill-color);\n",
              "    height: 32px;\n",
              "    padding: 0;\n",
              "    width: 32px;\n",
              "  }\n",
              "\n",
              "  .colab-df-quickchart:hover {\n",
              "    background-color: var(--hover-bg-color);\n",
              "    box-shadow: 0 1px 2px rgba(60, 64, 67, 0.3), 0 1px 3px 1px rgba(60, 64, 67, 0.15);\n",
              "    fill: var(--button-hover-fill-color);\n",
              "  }\n",
              "\n",
              "  .colab-df-quickchart-complete:disabled,\n",
              "  .colab-df-quickchart-complete:disabled:hover {\n",
              "    background-color: var(--disabled-bg-color);\n",
              "    fill: var(--disabled-fill-color);\n",
              "    box-shadow: none;\n",
              "  }\n",
              "\n",
              "  .colab-df-spinner {\n",
              "    border: 2px solid var(--fill-color);\n",
              "    border-color: transparent;\n",
              "    border-bottom-color: var(--fill-color);\n",
              "    animation:\n",
              "      spin 1s steps(1) infinite;\n",
              "  }\n",
              "\n",
              "  @keyframes spin {\n",
              "    0% {\n",
              "      border-color: transparent;\n",
              "      border-bottom-color: var(--fill-color);\n",
              "      border-left-color: var(--fill-color);\n",
              "    }\n",
              "    20% {\n",
              "      border-color: transparent;\n",
              "      border-left-color: var(--fill-color);\n",
              "      border-top-color: var(--fill-color);\n",
              "    }\n",
              "    30% {\n",
              "      border-color: transparent;\n",
              "      border-left-color: var(--fill-color);\n",
              "      border-top-color: var(--fill-color);\n",
              "      border-right-color: var(--fill-color);\n",
              "    }\n",
              "    40% {\n",
              "      border-color: transparent;\n",
              "      border-right-color: var(--fill-color);\n",
              "      border-top-color: var(--fill-color);\n",
              "    }\n",
              "    60% {\n",
              "      border-color: transparent;\n",
              "      border-right-color: var(--fill-color);\n",
              "    }\n",
              "    80% {\n",
              "      border-color: transparent;\n",
              "      border-right-color: var(--fill-color);\n",
              "      border-bottom-color: var(--fill-color);\n",
              "    }\n",
              "    90% {\n",
              "      border-color: transparent;\n",
              "      border-bottom-color: var(--fill-color);\n",
              "    }\n",
              "  }\n",
              "</style>\n",
              "\n",
              "  <script>\n",
              "    async function quickchart(key) {\n",
              "      const quickchartButtonEl =\n",
              "        document.querySelector('#' + key + ' button');\n",
              "      quickchartButtonEl.disabled = true;  // To prevent multiple clicks.\n",
              "      quickchartButtonEl.classList.add('colab-df-spinner');\n",
              "      try {\n",
              "        const charts = await google.colab.kernel.invokeFunction(\n",
              "            'suggestCharts', [key], {});\n",
              "      } catch (error) {\n",
              "        console.error('Error during call to suggestCharts:', error);\n",
              "      }\n",
              "      quickchartButtonEl.classList.remove('colab-df-spinner');\n",
              "      quickchartButtonEl.classList.add('colab-df-quickchart-complete');\n",
              "    }\n",
              "    (() => {\n",
              "      let quickchartButtonEl =\n",
              "        document.querySelector('#df-4f11f91f-7440-40d9-afcf-9c2af3f81e83 button');\n",
              "      quickchartButtonEl.style.display =\n",
              "        google.colab.kernel.accessAllowed ? 'block' : 'none';\n",
              "    })();\n",
              "  </script>\n",
              "</div>\n",
              "\n",
              "    </div>\n",
              "  </div>\n"
            ],
            "application/vnd.google.colaboratory.intrinsic+json": {
              "type": "dataframe",
              "variable_name": "housing_df",
              "summary": "{\n  \"name\": \"housing_df\",\n  \"rows\": 13932,\n  \"fields\": [\n    {\n      \"column\": \"LATITUDE\",\n      \"properties\": {\n        \"dtype\": \"number\",\n        \"std\": 0.1406332845120593,\n        \"min\": 25.4343333738,\n        \"max\": 25.9743818667,\n        \"num_unique_values\": 13776,\n        \"samples\": [\n          25.9535312856,\n          25.5322080613,\n          25.971634806\n        ],\n        \"semantic_type\": \"\",\n        \"description\": \"\"\n      }\n    },\n    {\n      \"column\": \"LONGITUDE\",\n      \"properties\": {\n        \"dtype\": \"number\",\n        \"std\": 0.08919907221556059,\n        \"min\": -80.5421721039,\n        \"max\": -80.1197463899,\n        \"num_unique_values\": 13776,\n        \"samples\": [\n          -80.3431407205,\n          -80.3798341457,\n          -80.181985244\n        ],\n        \"semantic_type\": \"\",\n        \"description\": \"\"\n      }\n    },\n    {\n      \"column\": \"PARCELNO\",\n      \"properties\": {\n        \"dtype\": \"number\",\n        \"std\": 1199290453568,\n        \"min\": 102000801020,\n        \"max\": 3660170162200,\n        \"num_unique_values\": 13776,\n        \"samples\": [\n          3020040010470,\n          3060300031230,\n          3012320090470\n        ],\n        \"semantic_type\": \"\",\n        \"description\": \"\"\n      }\n    },\n    {\n      \"column\": \"SALE_PRC\",\n      \"properties\": {\n        \"dtype\": \"number\",\n        \"std\": 317214.68381617055,\n        \"min\": 72000.0,\n        \"max\": 2650000.0,\n        \"num_unique_values\": 2111,\n        \"samples\": [\n          417000.0,\n          323500.0,\n          249500.0\n        ],\n        \"semantic_type\": \"\",\n        \"description\": \"\"\n      }\n    },\n    {\n      \"column\": \"LND_SQFOOT\",\n      \"properties\": {\n        \"dtype\": \"number\",\n        \"std\": 6070,\n        \"min\": 1248,\n        \"max\": 57064,\n        \"num_unique_values\": 4696,\n        \"samples\": [\n          18750,\n          10376,\n          4886\n        ],\n        \"semantic_type\": \"\",\n        \"description\": \"\"\n      }\n    },\n    {\n      \"column\": \"TOT_LVG_AREA\",\n      \"properties\": {\n        \"dtype\": \"number\",\n        \"std\": 813,\n        \"min\": 854,\n        \"max\": 6287,\n        \"num_unique_values\": 2978,\n        \"samples\": [\n          4001,\n          5313,\n          1025\n        ],\n        \"semantic_type\": \"\",\n        \"description\": \"\"\n      }\n    },\n    {\n      \"column\": \"SPEC_FEAT_VAL\",\n      \"properties\": {\n        \"dtype\": \"number\",\n        \"std\": 13890,\n        \"min\": 0,\n        \"max\": 175020,\n        \"num_unique_values\": 7583,\n        \"samples\": [\n          4860,\n          1014,\n          2798\n        ],\n        \"semantic_type\": \"\",\n        \"description\": \"\"\n      }\n    },\n    {\n      \"column\": \"RAIL_DIST\",\n      \"properties\": {\n        \"dtype\": \"number\",\n        \"std\": 6178.0273328927515,\n        \"min\": 10.5,\n        \"max\": 29621.5,\n        \"num_unique_values\": 13235,\n        \"samples\": [\n          5001.5,\n          5757.2,\n          5359.9\n        ],\n        \"semantic_type\": \"\",\n        \"description\": \"\"\n      }\n    },\n    {\n      \"column\": \"OCEAN_DIST\",\n      \"properties\": {\n        \"dtype\": \"number\",\n        \"std\": 17595.07946782272,\n        \"min\": 236.1,\n        \"max\": 75744.9,\n        \"num_unique_values\": 13617,\n        \"samples\": [\n          44318.5,\n          60314.6,\n          20497.9\n        ],\n        \"semantic_type\": \"\",\n        \"description\": \"\"\n      }\n    },\n    {\n      \"column\": \"WATER_DIST\",\n      \"properties\": {\n        \"dtype\": \"number\",\n        \"std\": 11932.992369357276,\n        \"min\": 0.0,\n        \"max\": 50399.8,\n        \"num_unique_values\": 13218,\n        \"samples\": [\n          3831.9,\n          45696.2,\n          25736.9\n        ],\n        \"semantic_type\": \"\",\n        \"description\": \"\"\n      }\n    },\n    {\n      \"column\": \"CNTR_DIST\",\n      \"properties\": {\n        \"dtype\": \"number\",\n        \"std\": 32008.47480802362,\n        \"min\": 3825.6,\n        \"max\": 159976.5,\n        \"num_unique_values\": 13682,\n        \"samples\": [\n          37104.8,\n          99629.2,\n          39352.6\n        ],\n        \"semantic_type\": \"\",\n        \"description\": \"\"\n      }\n    },\n    {\n      \"column\": \"SUBCNTR_DI\",\n      \"properties\": {\n        \"dtype\": \"number\",\n        \"std\": 22161.825934980952,\n        \"min\": 1462.8,\n        \"max\": 110553.8,\n        \"num_unique_values\": 13642,\n        \"samples\": [\n          52611.5,\n          61450.1,\n          63096.3\n        ],\n        \"semantic_type\": \"\",\n        \"description\": \"\"\n      }\n    },\n    {\n      \"column\": \"HWY_DIST\",\n      \"properties\": {\n        \"dtype\": \"number\",\n        \"std\": 6068.936108227706,\n        \"min\": 90.2,\n        \"max\": 48167.3,\n        \"num_unique_values\": 13213,\n        \"samples\": [\n          1705.8,\n          15972.8,\n          15423.1\n        ],\n        \"semantic_type\": \"\",\n        \"description\": \"\"\n      }\n    },\n    {\n      \"column\": \"age\",\n      \"properties\": {\n        \"dtype\": \"number\",\n        \"std\": 21,\n        \"min\": 0,\n        \"max\": 96,\n        \"num_unique_values\": 96,\n        \"samples\": [\n          92,\n          93,\n          4\n        ],\n        \"semantic_type\": \"\",\n        \"description\": \"\"\n      }\n    },\n    {\n      \"column\": \"avno60plus\",\n      \"properties\": {\n        \"dtype\": \"number\",\n        \"std\": 0,\n        \"min\": 0,\n        \"max\": 1,\n        \"num_unique_values\": 2,\n        \"samples\": [\n          1,\n          0\n        ],\n        \"semantic_type\": \"\",\n        \"description\": \"\"\n      }\n    },\n    {\n      \"column\": \"month_sold\",\n      \"properties\": {\n        \"dtype\": \"number\",\n        \"std\": 3,\n        \"min\": 1,\n        \"max\": 12,\n        \"num_unique_values\": 12,\n        \"samples\": [\n          1,\n          12\n        ],\n        \"semantic_type\": \"\",\n        \"description\": \"\"\n      }\n    },\n    {\n      \"column\": \"structure_quality\",\n      \"properties\": {\n        \"dtype\": \"number\",\n        \"std\": 1,\n        \"min\": 1,\n        \"max\": 5,\n        \"num_unique_values\": 5,\n        \"samples\": [\n          5,\n          3\n        ],\n        \"semantic_type\": \"\",\n        \"description\": \"\"\n      }\n    }\n  ]\n}"
            }
          },
          "metadata": {},
          "execution_count": 52
        }
      ],
      "source": [
        "# Show the first 5 rows of the dataset\n",
        "housing_df.head()"
      ]
    },
    {
      "cell_type": "code",
      "execution_count": null,
      "metadata": {
        "colab": {
          "base_uri": "https://localhost:8080/",
          "height": 224
        },
        "id": "xhdL1c4M59wF",
        "outputId": "842cbd35-eaae-4ea2-e32b-33d001bee10f"
      },
      "outputs": [
        {
          "output_type": "execute_result",
          "data": {
            "text/plain": [
              "        LATITUDE  LONGITUDE      PARCELNO  SALE_PRC  LND_SQFOOT  TOT_LVG_AREA  \\\n",
              "13927  25.783130 -80.259795  131320040990  275000.0        6780           967   \n",
              "13928  25.783585 -80.260354  131320040910  340000.0        7500          1854   \n",
              "13929  25.783793 -80.256126  131320040420  287500.0        8460          1271   \n",
              "13930  25.784007 -80.257542  131320040330  315000.0        7500          1613   \n",
              "13931  25.784387 -80.258901  131320040700  250000.0        8833          1867   \n",
              "\n",
              "       SPEC_FEAT_VAL  RAIL_DIST  OCEAN_DIST  WATER_DIST  CNTR_DIST  \\\n",
              "13927           6580     3844.5     20568.0      3252.4    22175.9   \n",
              "13928           2544     3593.6     20791.9      3077.7    22375.1   \n",
              "13929           2064     4143.2     20307.9      3588.4    20966.9   \n",
              "13930           3136     3986.9     20542.6      3589.1    21475.6   \n",
              "13931            266     3793.9     20859.6      3421.0    21928.6   \n",
              "\n",
              "       SUBCNTR_DI  HWY_DIST  age  avno60plus  month_sold  structure_quality  \n",
              "13927     12150.1     917.4   16           0           4                  4  \n",
              "13928     12316.8     738.2   26           0           5                  4  \n",
              "13929     12433.0     743.7   16           0           7                  4  \n",
              "13930     12458.0     626.1   16           0           8                  4  \n",
              "13931     12599.0     474.7   62           0          11                  4  "
            ],
            "text/html": [
              "\n",
              "  <div id=\"df-67302ee2-d38e-4d1e-a74d-b84cf6ac8650\" class=\"colab-df-container\">\n",
              "    <div>\n",
              "<style scoped>\n",
              "    .dataframe tbody tr th:only-of-type {\n",
              "        vertical-align: middle;\n",
              "    }\n",
              "\n",
              "    .dataframe tbody tr th {\n",
              "        vertical-align: top;\n",
              "    }\n",
              "\n",
              "    .dataframe thead th {\n",
              "        text-align: right;\n",
              "    }\n",
              "</style>\n",
              "<table border=\"1\" class=\"dataframe\">\n",
              "  <thead>\n",
              "    <tr style=\"text-align: right;\">\n",
              "      <th></th>\n",
              "      <th>LATITUDE</th>\n",
              "      <th>LONGITUDE</th>\n",
              "      <th>PARCELNO</th>\n",
              "      <th>SALE_PRC</th>\n",
              "      <th>LND_SQFOOT</th>\n",
              "      <th>TOT_LVG_AREA</th>\n",
              "      <th>SPEC_FEAT_VAL</th>\n",
              "      <th>RAIL_DIST</th>\n",
              "      <th>OCEAN_DIST</th>\n",
              "      <th>WATER_DIST</th>\n",
              "      <th>CNTR_DIST</th>\n",
              "      <th>SUBCNTR_DI</th>\n",
              "      <th>HWY_DIST</th>\n",
              "      <th>age</th>\n",
              "      <th>avno60plus</th>\n",
              "      <th>month_sold</th>\n",
              "      <th>structure_quality</th>\n",
              "    </tr>\n",
              "  </thead>\n",
              "  <tbody>\n",
              "    <tr>\n",
              "      <th>13927</th>\n",
              "      <td>25.783130</td>\n",
              "      <td>-80.259795</td>\n",
              "      <td>131320040990</td>\n",
              "      <td>275000.0</td>\n",
              "      <td>6780</td>\n",
              "      <td>967</td>\n",
              "      <td>6580</td>\n",
              "      <td>3844.5</td>\n",
              "      <td>20568.0</td>\n",
              "      <td>3252.4</td>\n",
              "      <td>22175.9</td>\n",
              "      <td>12150.1</td>\n",
              "      <td>917.4</td>\n",
              "      <td>16</td>\n",
              "      <td>0</td>\n",
              "      <td>4</td>\n",
              "      <td>4</td>\n",
              "    </tr>\n",
              "    <tr>\n",
              "      <th>13928</th>\n",
              "      <td>25.783585</td>\n",
              "      <td>-80.260354</td>\n",
              "      <td>131320040910</td>\n",
              "      <td>340000.0</td>\n",
              "      <td>7500</td>\n",
              "      <td>1854</td>\n",
              "      <td>2544</td>\n",
              "      <td>3593.6</td>\n",
              "      <td>20791.9</td>\n",
              "      <td>3077.7</td>\n",
              "      <td>22375.1</td>\n",
              "      <td>12316.8</td>\n",
              "      <td>738.2</td>\n",
              "      <td>26</td>\n",
              "      <td>0</td>\n",
              "      <td>5</td>\n",
              "      <td>4</td>\n",
              "    </tr>\n",
              "    <tr>\n",
              "      <th>13929</th>\n",
              "      <td>25.783793</td>\n",
              "      <td>-80.256126</td>\n",
              "      <td>131320040420</td>\n",
              "      <td>287500.0</td>\n",
              "      <td>8460</td>\n",
              "      <td>1271</td>\n",
              "      <td>2064</td>\n",
              "      <td>4143.2</td>\n",
              "      <td>20307.9</td>\n",
              "      <td>3588.4</td>\n",
              "      <td>20966.9</td>\n",
              "      <td>12433.0</td>\n",
              "      <td>743.7</td>\n",
              "      <td>16</td>\n",
              "      <td>0</td>\n",
              "      <td>7</td>\n",
              "      <td>4</td>\n",
              "    </tr>\n",
              "    <tr>\n",
              "      <th>13930</th>\n",
              "      <td>25.784007</td>\n",
              "      <td>-80.257542</td>\n",
              "      <td>131320040330</td>\n",
              "      <td>315000.0</td>\n",
              "      <td>7500</td>\n",
              "      <td>1613</td>\n",
              "      <td>3136</td>\n",
              "      <td>3986.9</td>\n",
              "      <td>20542.6</td>\n",
              "      <td>3589.1</td>\n",
              "      <td>21475.6</td>\n",
              "      <td>12458.0</td>\n",
              "      <td>626.1</td>\n",
              "      <td>16</td>\n",
              "      <td>0</td>\n",
              "      <td>8</td>\n",
              "      <td>4</td>\n",
              "    </tr>\n",
              "    <tr>\n",
              "      <th>13931</th>\n",
              "      <td>25.784387</td>\n",
              "      <td>-80.258901</td>\n",
              "      <td>131320040700</td>\n",
              "      <td>250000.0</td>\n",
              "      <td>8833</td>\n",
              "      <td>1867</td>\n",
              "      <td>266</td>\n",
              "      <td>3793.9</td>\n",
              "      <td>20859.6</td>\n",
              "      <td>3421.0</td>\n",
              "      <td>21928.6</td>\n",
              "      <td>12599.0</td>\n",
              "      <td>474.7</td>\n",
              "      <td>62</td>\n",
              "      <td>0</td>\n",
              "      <td>11</td>\n",
              "      <td>4</td>\n",
              "    </tr>\n",
              "  </tbody>\n",
              "</table>\n",
              "</div>\n",
              "    <div class=\"colab-df-buttons\">\n",
              "\n",
              "  <div class=\"colab-df-container\">\n",
              "    <button class=\"colab-df-convert\" onclick=\"convertToInteractive('df-67302ee2-d38e-4d1e-a74d-b84cf6ac8650')\"\n",
              "            title=\"Convert this dataframe to an interactive table.\"\n",
              "            style=\"display:none;\">\n",
              "\n",
              "  <svg xmlns=\"http://www.w3.org/2000/svg\" height=\"24px\" viewBox=\"0 -960 960 960\">\n",
              "    <path d=\"M120-120v-720h720v720H120Zm60-500h600v-160H180v160Zm220 220h160v-160H400v160Zm0 220h160v-160H400v160ZM180-400h160v-160H180v160Zm440 0h160v-160H620v160ZM180-180h160v-160H180v160Zm440 0h160v-160H620v160Z\"/>\n",
              "  </svg>\n",
              "    </button>\n",
              "\n",
              "  <style>\n",
              "    .colab-df-container {\n",
              "      display:flex;\n",
              "      gap: 12px;\n",
              "    }\n",
              "\n",
              "    .colab-df-convert {\n",
              "      background-color: #E8F0FE;\n",
              "      border: none;\n",
              "      border-radius: 50%;\n",
              "      cursor: pointer;\n",
              "      display: none;\n",
              "      fill: #1967D2;\n",
              "      height: 32px;\n",
              "      padding: 0 0 0 0;\n",
              "      width: 32px;\n",
              "    }\n",
              "\n",
              "    .colab-df-convert:hover {\n",
              "      background-color: #E2EBFA;\n",
              "      box-shadow: 0px 1px 2px rgba(60, 64, 67, 0.3), 0px 1px 3px 1px rgba(60, 64, 67, 0.15);\n",
              "      fill: #174EA6;\n",
              "    }\n",
              "\n",
              "    .colab-df-buttons div {\n",
              "      margin-bottom: 4px;\n",
              "    }\n",
              "\n",
              "    [theme=dark] .colab-df-convert {\n",
              "      background-color: #3B4455;\n",
              "      fill: #D2E3FC;\n",
              "    }\n",
              "\n",
              "    [theme=dark] .colab-df-convert:hover {\n",
              "      background-color: #434B5C;\n",
              "      box-shadow: 0px 1px 3px 1px rgba(0, 0, 0, 0.15);\n",
              "      filter: drop-shadow(0px 1px 2px rgba(0, 0, 0, 0.3));\n",
              "      fill: #FFFFFF;\n",
              "    }\n",
              "  </style>\n",
              "\n",
              "    <script>\n",
              "      const buttonEl =\n",
              "        document.querySelector('#df-67302ee2-d38e-4d1e-a74d-b84cf6ac8650 button.colab-df-convert');\n",
              "      buttonEl.style.display =\n",
              "        google.colab.kernel.accessAllowed ? 'block' : 'none';\n",
              "\n",
              "      async function convertToInteractive(key) {\n",
              "        const element = document.querySelector('#df-67302ee2-d38e-4d1e-a74d-b84cf6ac8650');\n",
              "        const dataTable =\n",
              "          await google.colab.kernel.invokeFunction('convertToInteractive',\n",
              "                                                    [key], {});\n",
              "        if (!dataTable) return;\n",
              "\n",
              "        const docLinkHtml = 'Like what you see? Visit the ' +\n",
              "          '<a target=\"_blank\" href=https://colab.research.google.com/notebooks/data_table.ipynb>data table notebook</a>'\n",
              "          + ' to learn more about interactive tables.';\n",
              "        element.innerHTML = '';\n",
              "        dataTable['output_type'] = 'display_data';\n",
              "        await google.colab.output.renderOutput(dataTable, element);\n",
              "        const docLink = document.createElement('div');\n",
              "        docLink.innerHTML = docLinkHtml;\n",
              "        element.appendChild(docLink);\n",
              "      }\n",
              "    </script>\n",
              "  </div>\n",
              "\n",
              "\n",
              "<div id=\"df-cc900c07-4c5f-4c77-a2b4-700bea20ca5a\">\n",
              "  <button class=\"colab-df-quickchart\" onclick=\"quickchart('df-cc900c07-4c5f-4c77-a2b4-700bea20ca5a')\"\n",
              "            title=\"Suggest charts\"\n",
              "            style=\"display:none;\">\n",
              "\n",
              "<svg xmlns=\"http://www.w3.org/2000/svg\" height=\"24px\"viewBox=\"0 0 24 24\"\n",
              "     width=\"24px\">\n",
              "    <g>\n",
              "        <path d=\"M19 3H5c-1.1 0-2 .9-2 2v14c0 1.1.9 2 2 2h14c1.1 0 2-.9 2-2V5c0-1.1-.9-2-2-2zM9 17H7v-7h2v7zm4 0h-2V7h2v10zm4 0h-2v-4h2v4z\"/>\n",
              "    </g>\n",
              "</svg>\n",
              "  </button>\n",
              "\n",
              "<style>\n",
              "  .colab-df-quickchart {\n",
              "      --bg-color: #E8F0FE;\n",
              "      --fill-color: #1967D2;\n",
              "      --hover-bg-color: #E2EBFA;\n",
              "      --hover-fill-color: #174EA6;\n",
              "      --disabled-fill-color: #AAA;\n",
              "      --disabled-bg-color: #DDD;\n",
              "  }\n",
              "\n",
              "  [theme=dark] .colab-df-quickchart {\n",
              "      --bg-color: #3B4455;\n",
              "      --fill-color: #D2E3FC;\n",
              "      --hover-bg-color: #434B5C;\n",
              "      --hover-fill-color: #FFFFFF;\n",
              "      --disabled-bg-color: #3B4455;\n",
              "      --disabled-fill-color: #666;\n",
              "  }\n",
              "\n",
              "  .colab-df-quickchart {\n",
              "    background-color: var(--bg-color);\n",
              "    border: none;\n",
              "    border-radius: 50%;\n",
              "    cursor: pointer;\n",
              "    display: none;\n",
              "    fill: var(--fill-color);\n",
              "    height: 32px;\n",
              "    padding: 0;\n",
              "    width: 32px;\n",
              "  }\n",
              "\n",
              "  .colab-df-quickchart:hover {\n",
              "    background-color: var(--hover-bg-color);\n",
              "    box-shadow: 0 1px 2px rgba(60, 64, 67, 0.3), 0 1px 3px 1px rgba(60, 64, 67, 0.15);\n",
              "    fill: var(--button-hover-fill-color);\n",
              "  }\n",
              "\n",
              "  .colab-df-quickchart-complete:disabled,\n",
              "  .colab-df-quickchart-complete:disabled:hover {\n",
              "    background-color: var(--disabled-bg-color);\n",
              "    fill: var(--disabled-fill-color);\n",
              "    box-shadow: none;\n",
              "  }\n",
              "\n",
              "  .colab-df-spinner {\n",
              "    border: 2px solid var(--fill-color);\n",
              "    border-color: transparent;\n",
              "    border-bottom-color: var(--fill-color);\n",
              "    animation:\n",
              "      spin 1s steps(1) infinite;\n",
              "  }\n",
              "\n",
              "  @keyframes spin {\n",
              "    0% {\n",
              "      border-color: transparent;\n",
              "      border-bottom-color: var(--fill-color);\n",
              "      border-left-color: var(--fill-color);\n",
              "    }\n",
              "    20% {\n",
              "      border-color: transparent;\n",
              "      border-left-color: var(--fill-color);\n",
              "      border-top-color: var(--fill-color);\n",
              "    }\n",
              "    30% {\n",
              "      border-color: transparent;\n",
              "      border-left-color: var(--fill-color);\n",
              "      border-top-color: var(--fill-color);\n",
              "      border-right-color: var(--fill-color);\n",
              "    }\n",
              "    40% {\n",
              "      border-color: transparent;\n",
              "      border-right-color: var(--fill-color);\n",
              "      border-top-color: var(--fill-color);\n",
              "    }\n",
              "    60% {\n",
              "      border-color: transparent;\n",
              "      border-right-color: var(--fill-color);\n",
              "    }\n",
              "    80% {\n",
              "      border-color: transparent;\n",
              "      border-right-color: var(--fill-color);\n",
              "      border-bottom-color: var(--fill-color);\n",
              "    }\n",
              "    90% {\n",
              "      border-color: transparent;\n",
              "      border-bottom-color: var(--fill-color);\n",
              "    }\n",
              "  }\n",
              "</style>\n",
              "\n",
              "  <script>\n",
              "    async function quickchart(key) {\n",
              "      const quickchartButtonEl =\n",
              "        document.querySelector('#' + key + ' button');\n",
              "      quickchartButtonEl.disabled = true;  // To prevent multiple clicks.\n",
              "      quickchartButtonEl.classList.add('colab-df-spinner');\n",
              "      try {\n",
              "        const charts = await google.colab.kernel.invokeFunction(\n",
              "            'suggestCharts', [key], {});\n",
              "      } catch (error) {\n",
              "        console.error('Error during call to suggestCharts:', error);\n",
              "      }\n",
              "      quickchartButtonEl.classList.remove('colab-df-spinner');\n",
              "      quickchartButtonEl.classList.add('colab-df-quickchart-complete');\n",
              "    }\n",
              "    (() => {\n",
              "      let quickchartButtonEl =\n",
              "        document.querySelector('#df-cc900c07-4c5f-4c77-a2b4-700bea20ca5a button');\n",
              "      quickchartButtonEl.style.display =\n",
              "        google.colab.kernel.accessAllowed ? 'block' : 'none';\n",
              "    })();\n",
              "  </script>\n",
              "</div>\n",
              "\n",
              "    </div>\n",
              "  </div>\n"
            ],
            "application/vnd.google.colaboratory.intrinsic+json": {
              "type": "dataframe",
              "summary": "{\n  \"name\": \"housing_df\",\n  \"rows\": 5,\n  \"fields\": [\n    {\n      \"column\": \"LATITUDE\",\n      \"properties\": {\n        \"dtype\": \"number\",\n        \"std\": 0.00046921989185102846,\n        \"min\": 25.7831299329,\n        \"max\": 25.784387053,\n        \"num_unique_values\": 5,\n        \"samples\": [\n          25.7835851393,\n          25.784387053,\n          25.7837933079\n        ],\n        \"semantic_type\": \"\",\n        \"description\": \"\"\n      }\n    },\n    {\n      \"column\": \"LONGITUDE\",\n      \"properties\": {\n        \"dtype\": \"number\",\n        \"std\": 0.0017191587803921176,\n        \"min\": -80.2603542762,\n        \"max\": -80.2561255007,\n        \"num_unique_values\": 5,\n        \"samples\": [\n          -80.2603542762,\n          -80.2589009481,\n          -80.2561255007\n        ],\n        \"semantic_type\": \"\",\n        \"description\": \"\"\n      }\n    },\n    {\n      \"column\": \"PARCELNO\",\n      \"properties\": {\n        \"dtype\": \"number\",\n        \"std\": 291,\n        \"min\": 131320040330,\n        \"max\": 131320040990,\n        \"num_unique_values\": 5,\n        \"samples\": [\n          131320040910,\n          131320040700,\n          131320040420\n        ],\n        \"semantic_type\": \"\",\n        \"description\": \"\"\n      }\n    },\n    {\n      \"column\": \"SALE_PRC\",\n      \"properties\": {\n        \"dtype\": \"number\",\n        \"std\": 34982.138299423605,\n        \"min\": 250000.0,\n        \"max\": 340000.0,\n        \"num_unique_values\": 5,\n        \"samples\": [\n          340000.0,\n          250000.0,\n          287500.0\n        ],\n        \"semantic_type\": \"\",\n        \"description\": \"\"\n      }\n    },\n    {\n      \"column\": \"LND_SQFOOT\",\n      \"properties\": {\n        \"dtype\": \"number\",\n        \"std\": 824,\n        \"min\": 6780,\n        \"max\": 8833,\n        \"num_unique_values\": 4,\n        \"samples\": [\n          7500,\n          8833,\n          6780\n        ],\n        \"semantic_type\": \"\",\n        \"description\": \"\"\n      }\n    },\n    {\n      \"column\": \"TOT_LVG_AREA\",\n      \"properties\": {\n        \"dtype\": \"number\",\n        \"std\": 389,\n        \"min\": 967,\n        \"max\": 1867,\n        \"num_unique_values\": 5,\n        \"samples\": [\n          1854,\n          1867,\n          1271\n        ],\n        \"semantic_type\": \"\",\n        \"description\": \"\"\n      }\n    },\n    {\n      \"column\": \"SPEC_FEAT_VAL\",\n      \"properties\": {\n        \"dtype\": \"number\",\n        \"std\": 2310,\n        \"min\": 266,\n        \"max\": 6580,\n        \"num_unique_values\": 5,\n        \"samples\": [\n          2544,\n          266,\n          2064\n        ],\n        \"semantic_type\": \"\",\n        \"description\": \"\"\n      }\n    },\n    {\n      \"column\": \"RAIL_DIST\",\n      \"properties\": {\n        \"dtype\": \"number\",\n        \"std\": 206.82902842686272,\n        \"min\": 3593.6,\n        \"max\": 4143.2,\n        \"num_unique_values\": 5,\n        \"samples\": [\n          3593.6,\n          3793.9,\n          4143.2\n        ],\n        \"semantic_type\": \"\",\n        \"description\": \"\"\n      }\n    },\n    {\n      \"column\": \"OCEAN_DIST\",\n      \"properties\": {\n        \"dtype\": \"number\",\n        \"std\": 219.5899246322558,\n        \"min\": 20307.9,\n        \"max\": 20859.6,\n        \"num_unique_values\": 5,\n        \"samples\": [\n          20791.9,\n          20859.6,\n          20307.9\n        ],\n        \"semantic_type\": \"\",\n        \"description\": \"\"\n      }\n    },\n    {\n      \"column\": \"WATER_DIST\",\n      \"properties\": {\n        \"dtype\": \"number\",\n        \"std\": 221.55012299703205,\n        \"min\": 3077.7,\n        \"max\": 3589.1,\n        \"num_unique_values\": 5,\n        \"samples\": [\n          3077.7,\n          3421.0,\n          3588.4\n        ],\n        \"semantic_type\": \"\",\n        \"description\": \"\"\n      }\n    },\n    {\n      \"column\": \"CNTR_DIST\",\n      \"properties\": {\n        \"dtype\": \"number\",\n        \"std\": 567.1543149796177,\n        \"min\": 20966.9,\n        \"max\": 22375.1,\n        \"num_unique_values\": 5,\n        \"samples\": [\n          22375.1,\n          21928.6,\n          20966.9\n        ],\n        \"semantic_type\": \"\",\n        \"description\": \"\"\n      }\n    },\n    {\n      \"column\": \"SUBCNTR_DI\",\n      \"properties\": {\n        \"dtype\": \"number\",\n        \"std\": 168.11805970805153,\n        \"min\": 12150.1,\n        \"max\": 12599.0,\n        \"num_unique_values\": 5,\n        \"samples\": [\n          12316.8,\n          12599.0,\n          12433.0\n        ],\n        \"semantic_type\": \"\",\n        \"description\": \"\"\n      }\n    },\n    {\n      \"column\": \"HWY_DIST\",\n      \"properties\": {\n        \"dtype\": \"number\",\n        \"std\": 163.4418765188408,\n        \"min\": 474.7,\n        \"max\": 917.4,\n        \"num_unique_values\": 5,\n        \"samples\": [\n          738.2,\n          474.7,\n          743.7\n        ],\n        \"semantic_type\": \"\",\n        \"description\": \"\"\n      }\n    },\n    {\n      \"column\": \"age\",\n      \"properties\": {\n        \"dtype\": \"number\",\n        \"std\": 19,\n        \"min\": 16,\n        \"max\": 62,\n        \"num_unique_values\": 3,\n        \"samples\": [\n          16,\n          26,\n          62\n        ],\n        \"semantic_type\": \"\",\n        \"description\": \"\"\n      }\n    },\n    {\n      \"column\": \"avno60plus\",\n      \"properties\": {\n        \"dtype\": \"number\",\n        \"std\": 0,\n        \"min\": 0,\n        \"max\": 0,\n        \"num_unique_values\": 1,\n        \"samples\": [\n          0\n        ],\n        \"semantic_type\": \"\",\n        \"description\": \"\"\n      }\n    },\n    {\n      \"column\": \"month_sold\",\n      \"properties\": {\n        \"dtype\": \"number\",\n        \"std\": 2,\n        \"min\": 4,\n        \"max\": 11,\n        \"num_unique_values\": 5,\n        \"samples\": [\n          5\n        ],\n        \"semantic_type\": \"\",\n        \"description\": \"\"\n      }\n    },\n    {\n      \"column\": \"structure_quality\",\n      \"properties\": {\n        \"dtype\": \"number\",\n        \"std\": 0,\n        \"min\": 4,\n        \"max\": 4,\n        \"num_unique_values\": 1,\n        \"samples\": [\n          4\n        ],\n        \"semantic_type\": \"\",\n        \"description\": \"\"\n      }\n    }\n  ]\n}"
            }
          },
          "metadata": {},
          "execution_count": 53
        }
      ],
      "source": [
        "# Show the last 5 rows of the Dataframe\n",
        "housing_df.tail()"
      ]
    },
    {
      "cell_type": "code",
      "execution_count": null,
      "metadata": {
        "colab": {
          "base_uri": "https://localhost:8080/"
        },
        "id": "JwObNFZ86HAR",
        "outputId": "c0dfcc01-3c7f-43b6-b48b-65d0e83e5d65"
      },
      "outputs": [
        {
          "output_type": "execute_result",
          "data": {
            "text/plain": [
              "236844"
            ]
          },
          "metadata": {},
          "execution_count": 54
        }
      ],
      "source": [
        "# See the size of the dataFrame  (Meaning product of rows * columns)\n",
        "housing_df.size"
      ]
    },
    {
      "cell_type": "code",
      "execution_count": null,
      "metadata": {
        "colab": {
          "base_uri": "https://localhost:8080/"
        },
        "id": "HuOsfrhy6MFO",
        "outputId": "3f25e917-ec97-4d0e-88e8-871b48cbb032"
      },
      "outputs": [
        {
          "output_type": "execute_result",
          "data": {
            "text/plain": [
              "(13932, 17)"
            ]
          },
          "metadata": {},
          "execution_count": 55
        }
      ],
      "source": [
        "housing_df.shape # See the shape of the dataframe"
      ]
    },
    {
      "cell_type": "code",
      "execution_count": null,
      "metadata": {
        "colab": {
          "base_uri": "https://localhost:8080/"
        },
        "id": "RXor0sIK6Qf_",
        "outputId": "cdc051ef-7bbb-40e2-da4c-14e7d4a26fe2"
      },
      "outputs": [
        {
          "output_type": "execute_result",
          "data": {
            "text/plain": [
              "Index(['LATITUDE', 'LONGITUDE', 'PARCELNO', 'SALE_PRC', 'LND_SQFOOT',\n",
              "       'TOT_LVG_AREA', 'SPEC_FEAT_VAL', 'RAIL_DIST', 'OCEAN_DIST',\n",
              "       'WATER_DIST', 'CNTR_DIST', 'SUBCNTR_DI', 'HWY_DIST', 'age',\n",
              "       'avno60plus', 'month_sold', 'structure_quality'],\n",
              "      dtype='object')"
            ]
          },
          "metadata": {},
          "execution_count": 56
        }
      ],
      "source": [
        "housing_df.columns # See the features (Columns of the dataset)"
      ]
    },
    {
      "cell_type": "code",
      "execution_count": null,
      "metadata": {
        "colab": {
          "base_uri": "https://localhost:8080/",
          "height": 610
        },
        "id": "RwMJNEt76Uja",
        "outputId": "4c40a593-8b96-48ca-e5c8-9d31321540d8"
      },
      "outputs": [
        {
          "output_type": "execute_result",
          "data": {
            "text/plain": [
              "LATITUDE             float64\n",
              "LONGITUDE            float64\n",
              "PARCELNO               int64\n",
              "SALE_PRC             float64\n",
              "LND_SQFOOT             int64\n",
              "TOT_LVG_AREA           int64\n",
              "SPEC_FEAT_VAL          int64\n",
              "RAIL_DIST            float64\n",
              "OCEAN_DIST           float64\n",
              "WATER_DIST           float64\n",
              "CNTR_DIST            float64\n",
              "SUBCNTR_DI           float64\n",
              "HWY_DIST             float64\n",
              "age                    int64\n",
              "avno60plus             int64\n",
              "month_sold             int64\n",
              "structure_quality      int64\n",
              "dtype: object"
            ],
            "text/html": [
              "<div>\n",
              "<style scoped>\n",
              "    .dataframe tbody tr th:only-of-type {\n",
              "        vertical-align: middle;\n",
              "    }\n",
              "\n",
              "    .dataframe tbody tr th {\n",
              "        vertical-align: top;\n",
              "    }\n",
              "\n",
              "    .dataframe thead th {\n",
              "        text-align: right;\n",
              "    }\n",
              "</style>\n",
              "<table border=\"1\" class=\"dataframe\">\n",
              "  <thead>\n",
              "    <tr style=\"text-align: right;\">\n",
              "      <th></th>\n",
              "      <th>0</th>\n",
              "    </tr>\n",
              "  </thead>\n",
              "  <tbody>\n",
              "    <tr>\n",
              "      <th>LATITUDE</th>\n",
              "      <td>float64</td>\n",
              "    </tr>\n",
              "    <tr>\n",
              "      <th>LONGITUDE</th>\n",
              "      <td>float64</td>\n",
              "    </tr>\n",
              "    <tr>\n",
              "      <th>PARCELNO</th>\n",
              "      <td>int64</td>\n",
              "    </tr>\n",
              "    <tr>\n",
              "      <th>SALE_PRC</th>\n",
              "      <td>float64</td>\n",
              "    </tr>\n",
              "    <tr>\n",
              "      <th>LND_SQFOOT</th>\n",
              "      <td>int64</td>\n",
              "    </tr>\n",
              "    <tr>\n",
              "      <th>TOT_LVG_AREA</th>\n",
              "      <td>int64</td>\n",
              "    </tr>\n",
              "    <tr>\n",
              "      <th>SPEC_FEAT_VAL</th>\n",
              "      <td>int64</td>\n",
              "    </tr>\n",
              "    <tr>\n",
              "      <th>RAIL_DIST</th>\n",
              "      <td>float64</td>\n",
              "    </tr>\n",
              "    <tr>\n",
              "      <th>OCEAN_DIST</th>\n",
              "      <td>float64</td>\n",
              "    </tr>\n",
              "    <tr>\n",
              "      <th>WATER_DIST</th>\n",
              "      <td>float64</td>\n",
              "    </tr>\n",
              "    <tr>\n",
              "      <th>CNTR_DIST</th>\n",
              "      <td>float64</td>\n",
              "    </tr>\n",
              "    <tr>\n",
              "      <th>SUBCNTR_DI</th>\n",
              "      <td>float64</td>\n",
              "    </tr>\n",
              "    <tr>\n",
              "      <th>HWY_DIST</th>\n",
              "      <td>float64</td>\n",
              "    </tr>\n",
              "    <tr>\n",
              "      <th>age</th>\n",
              "      <td>int64</td>\n",
              "    </tr>\n",
              "    <tr>\n",
              "      <th>avno60plus</th>\n",
              "      <td>int64</td>\n",
              "    </tr>\n",
              "    <tr>\n",
              "      <th>month_sold</th>\n",
              "      <td>int64</td>\n",
              "    </tr>\n",
              "    <tr>\n",
              "      <th>structure_quality</th>\n",
              "      <td>int64</td>\n",
              "    </tr>\n",
              "  </tbody>\n",
              "</table>\n",
              "</div><br><label><b>dtype:</b> object</label>"
            ]
          },
          "metadata": {},
          "execution_count": 57
        }
      ],
      "source": [
        "housing_df.dtypes # See the data types of the Dataset"
      ]
    },
    {
      "cell_type": "code",
      "execution_count": null,
      "metadata": {
        "colab": {
          "base_uri": "https://localhost:8080/"
        },
        "id": "sHKlyaRH6Xwh",
        "outputId": "ff20d24f-e549-4f08-aa92-45ecb7919a7c"
      },
      "outputs": [
        {
          "output_type": "stream",
          "name": "stdout",
          "text": [
            "<class 'pandas.core.frame.DataFrame'>\n",
            "RangeIndex: 13932 entries, 0 to 13931\n",
            "Data columns (total 17 columns):\n",
            " #   Column             Non-Null Count  Dtype  \n",
            "---  ------             --------------  -----  \n",
            " 0   LATITUDE           13932 non-null  float64\n",
            " 1   LONGITUDE          13932 non-null  float64\n",
            " 2   PARCELNO           13932 non-null  int64  \n",
            " 3   SALE_PRC           13932 non-null  float64\n",
            " 4   LND_SQFOOT         13932 non-null  int64  \n",
            " 5   TOT_LVG_AREA       13932 non-null  int64  \n",
            " 6   SPEC_FEAT_VAL      13932 non-null  int64  \n",
            " 7   RAIL_DIST          13932 non-null  float64\n",
            " 8   OCEAN_DIST         13932 non-null  float64\n",
            " 9   WATER_DIST         13932 non-null  float64\n",
            " 10  CNTR_DIST          13932 non-null  float64\n",
            " 11  SUBCNTR_DI         13932 non-null  float64\n",
            " 12  HWY_DIST           13932 non-null  float64\n",
            " 13  age                13932 non-null  int64  \n",
            " 14  avno60plus         13932 non-null  int64  \n",
            " 15  month_sold         13932 non-null  int64  \n",
            " 16  structure_quality  13932 non-null  int64  \n",
            "dtypes: float64(9), int64(8)\n",
            "memory usage: 1.8 MB\n"
          ]
        }
      ],
      "source": [
        "housing_df.info() # See cartain info about it to know the df better."
      ]
    },
    {
      "cell_type": "code",
      "execution_count": null,
      "metadata": {
        "colab": {
          "base_uri": "https://localhost:8080/",
          "height": 610
        },
        "id": "LIqn3fPe6kgw",
        "outputId": "d19aaa6a-8f97-4a1a-b289-41a96a2ac9ee"
      },
      "outputs": [
        {
          "output_type": "execute_result",
          "data": {
            "text/plain": [
              "LATITUDE             0\n",
              "LONGITUDE            0\n",
              "PARCELNO             0\n",
              "SALE_PRC             0\n",
              "LND_SQFOOT           0\n",
              "TOT_LVG_AREA         0\n",
              "SPEC_FEAT_VAL        0\n",
              "RAIL_DIST            0\n",
              "OCEAN_DIST           0\n",
              "WATER_DIST           0\n",
              "CNTR_DIST            0\n",
              "SUBCNTR_DI           0\n",
              "HWY_DIST             0\n",
              "age                  0\n",
              "avno60plus           0\n",
              "month_sold           0\n",
              "structure_quality    0\n",
              "dtype: int64"
            ],
            "text/html": [
              "<div>\n",
              "<style scoped>\n",
              "    .dataframe tbody tr th:only-of-type {\n",
              "        vertical-align: middle;\n",
              "    }\n",
              "\n",
              "    .dataframe tbody tr th {\n",
              "        vertical-align: top;\n",
              "    }\n",
              "\n",
              "    .dataframe thead th {\n",
              "        text-align: right;\n",
              "    }\n",
              "</style>\n",
              "<table border=\"1\" class=\"dataframe\">\n",
              "  <thead>\n",
              "    <tr style=\"text-align: right;\">\n",
              "      <th></th>\n",
              "      <th>0</th>\n",
              "    </tr>\n",
              "  </thead>\n",
              "  <tbody>\n",
              "    <tr>\n",
              "      <th>LATITUDE</th>\n",
              "      <td>0</td>\n",
              "    </tr>\n",
              "    <tr>\n",
              "      <th>LONGITUDE</th>\n",
              "      <td>0</td>\n",
              "    </tr>\n",
              "    <tr>\n",
              "      <th>PARCELNO</th>\n",
              "      <td>0</td>\n",
              "    </tr>\n",
              "    <tr>\n",
              "      <th>SALE_PRC</th>\n",
              "      <td>0</td>\n",
              "    </tr>\n",
              "    <tr>\n",
              "      <th>LND_SQFOOT</th>\n",
              "      <td>0</td>\n",
              "    </tr>\n",
              "    <tr>\n",
              "      <th>TOT_LVG_AREA</th>\n",
              "      <td>0</td>\n",
              "    </tr>\n",
              "    <tr>\n",
              "      <th>SPEC_FEAT_VAL</th>\n",
              "      <td>0</td>\n",
              "    </tr>\n",
              "    <tr>\n",
              "      <th>RAIL_DIST</th>\n",
              "      <td>0</td>\n",
              "    </tr>\n",
              "    <tr>\n",
              "      <th>OCEAN_DIST</th>\n",
              "      <td>0</td>\n",
              "    </tr>\n",
              "    <tr>\n",
              "      <th>WATER_DIST</th>\n",
              "      <td>0</td>\n",
              "    </tr>\n",
              "    <tr>\n",
              "      <th>CNTR_DIST</th>\n",
              "      <td>0</td>\n",
              "    </tr>\n",
              "    <tr>\n",
              "      <th>SUBCNTR_DI</th>\n",
              "      <td>0</td>\n",
              "    </tr>\n",
              "    <tr>\n",
              "      <th>HWY_DIST</th>\n",
              "      <td>0</td>\n",
              "    </tr>\n",
              "    <tr>\n",
              "      <th>age</th>\n",
              "      <td>0</td>\n",
              "    </tr>\n",
              "    <tr>\n",
              "      <th>avno60plus</th>\n",
              "      <td>0</td>\n",
              "    </tr>\n",
              "    <tr>\n",
              "      <th>month_sold</th>\n",
              "      <td>0</td>\n",
              "    </tr>\n",
              "    <tr>\n",
              "      <th>structure_quality</th>\n",
              "      <td>0</td>\n",
              "    </tr>\n",
              "  </tbody>\n",
              "</table>\n",
              "</div><br><label><b>dtype:</b> int64</label>"
            ]
          },
          "metadata": {},
          "execution_count": 59
        }
      ],
      "source": [
        "housing_df.isna().sum() # See the missin values (0) in this case == Clean Data"
      ]
    },
    {
      "cell_type": "code",
      "execution_count": null,
      "metadata": {
        "colab": {
          "base_uri": "https://localhost:8080/",
          "height": 317
        },
        "id": "5F_JlNkd6xQx",
        "outputId": "646cd23a-3e98-4e43-d7b0-9500007daef0"
      },
      "outputs": [
        {
          "output_type": "execute_result",
          "data": {
            "text/plain": [
              "           LATITUDE     LONGITUDE      PARCELNO      SALE_PRC    LND_SQFOOT  \\\n",
              "count  13932.000000  13932.000000  1.393200e+04  1.393200e+04  13932.000000   \n",
              "mean      25.728811    -80.327475  2.356496e+12  3.999419e+05   8620.879917   \n",
              "std        0.140633      0.089199  1.199290e+12  3.172147e+05   6070.088742   \n",
              "min       25.434333    -80.542172  1.020008e+11  7.200000e+04   1248.000000   \n",
              "25%       25.620056    -80.403278  1.079160e+12  2.350000e+05   5400.000000   \n",
              "50%       25.731810    -80.338911  3.040300e+12  3.100000e+05   7500.000000   \n",
              "75%       25.852269    -80.258019  3.060170e+12  4.280000e+05   9126.250000   \n",
              "max       25.974382    -80.119746  3.660170e+12  2.650000e+06  57064.000000   \n",
              "\n",
              "       TOT_LVG_AREA  SPEC_FEAT_VAL     RAIL_DIST    OCEAN_DIST    WATER_DIST  \\\n",
              "count  13932.000000   13932.000000  13932.000000  13932.000000  13932.000000   \n",
              "mean    2058.044574    9562.493468   8348.548715  31690.993798  11960.285235   \n",
              "std      813.538535   13890.967782   6178.027333  17595.079468  11932.992369   \n",
              "min      854.000000       0.000000     10.500000    236.100000      0.000000   \n",
              "25%     1470.000000     810.000000   3299.450000  18079.350000   2675.850000   \n",
              "50%     1877.500000    2765.500000   7106.300000  28541.750000   6922.600000   \n",
              "75%     2471.000000   12352.250000  12102.600000  44310.650000  19200.000000   \n",
              "max     6287.000000  175020.000000  29621.500000  75744.900000  50399.800000   \n",
              "\n",
              "           CNTR_DIST     SUBCNTR_DI      HWY_DIST           age    avno60plus  \\\n",
              "count   13932.000000   13932.000000  13932.000000  13932.000000  13932.000000   \n",
              "mean    68490.327132   41115.047265   7723.770693     30.669251      0.014930   \n",
              "std     32008.474808   22161.825935   6068.936108     21.153068      0.121276   \n",
              "min      3825.600000    1462.800000     90.200000      0.000000      0.000000   \n",
              "25%     42823.100000   23996.250000   2998.125000     14.000000      0.000000   \n",
              "50%     65852.400000   41109.900000   6159.750000     26.000000      0.000000   \n",
              "75%     89358.325000   53949.375000  10854.200000     46.000000      0.000000   \n",
              "max    159976.500000  110553.800000  48167.300000     96.000000      1.000000   \n",
              "\n",
              "         month_sold  structure_quality  \n",
              "count  13932.000000       13932.000000  \n",
              "mean       6.655828           3.513997  \n",
              "std        3.301523           1.097444  \n",
              "min        1.000000           1.000000  \n",
              "25%        4.000000           2.000000  \n",
              "50%        7.000000           4.000000  \n",
              "75%        9.000000           4.000000  \n",
              "max       12.000000           5.000000  "
            ],
            "text/html": [
              "\n",
              "  <div id=\"df-2a7acc7b-9593-462a-9513-adf9ca77f24f\" class=\"colab-df-container\">\n",
              "    <div>\n",
              "<style scoped>\n",
              "    .dataframe tbody tr th:only-of-type {\n",
              "        vertical-align: middle;\n",
              "    }\n",
              "\n",
              "    .dataframe tbody tr th {\n",
              "        vertical-align: top;\n",
              "    }\n",
              "\n",
              "    .dataframe thead th {\n",
              "        text-align: right;\n",
              "    }\n",
              "</style>\n",
              "<table border=\"1\" class=\"dataframe\">\n",
              "  <thead>\n",
              "    <tr style=\"text-align: right;\">\n",
              "      <th></th>\n",
              "      <th>LATITUDE</th>\n",
              "      <th>LONGITUDE</th>\n",
              "      <th>PARCELNO</th>\n",
              "      <th>SALE_PRC</th>\n",
              "      <th>LND_SQFOOT</th>\n",
              "      <th>TOT_LVG_AREA</th>\n",
              "      <th>SPEC_FEAT_VAL</th>\n",
              "      <th>RAIL_DIST</th>\n",
              "      <th>OCEAN_DIST</th>\n",
              "      <th>WATER_DIST</th>\n",
              "      <th>CNTR_DIST</th>\n",
              "      <th>SUBCNTR_DI</th>\n",
              "      <th>HWY_DIST</th>\n",
              "      <th>age</th>\n",
              "      <th>avno60plus</th>\n",
              "      <th>month_sold</th>\n",
              "      <th>structure_quality</th>\n",
              "    </tr>\n",
              "  </thead>\n",
              "  <tbody>\n",
              "    <tr>\n",
              "      <th>count</th>\n",
              "      <td>13932.000000</td>\n",
              "      <td>13932.000000</td>\n",
              "      <td>1.393200e+04</td>\n",
              "      <td>1.393200e+04</td>\n",
              "      <td>13932.000000</td>\n",
              "      <td>13932.000000</td>\n",
              "      <td>13932.000000</td>\n",
              "      <td>13932.000000</td>\n",
              "      <td>13932.000000</td>\n",
              "      <td>13932.000000</td>\n",
              "      <td>13932.000000</td>\n",
              "      <td>13932.000000</td>\n",
              "      <td>13932.000000</td>\n",
              "      <td>13932.000000</td>\n",
              "      <td>13932.000000</td>\n",
              "      <td>13932.000000</td>\n",
              "      <td>13932.000000</td>\n",
              "    </tr>\n",
              "    <tr>\n",
              "      <th>mean</th>\n",
              "      <td>25.728811</td>\n",
              "      <td>-80.327475</td>\n",
              "      <td>2.356496e+12</td>\n",
              "      <td>3.999419e+05</td>\n",
              "      <td>8620.879917</td>\n",
              "      <td>2058.044574</td>\n",
              "      <td>9562.493468</td>\n",
              "      <td>8348.548715</td>\n",
              "      <td>31690.993798</td>\n",
              "      <td>11960.285235</td>\n",
              "      <td>68490.327132</td>\n",
              "      <td>41115.047265</td>\n",
              "      <td>7723.770693</td>\n",
              "      <td>30.669251</td>\n",
              "      <td>0.014930</td>\n",
              "      <td>6.655828</td>\n",
              "      <td>3.513997</td>\n",
              "    </tr>\n",
              "    <tr>\n",
              "      <th>std</th>\n",
              "      <td>0.140633</td>\n",
              "      <td>0.089199</td>\n",
              "      <td>1.199290e+12</td>\n",
              "      <td>3.172147e+05</td>\n",
              "      <td>6070.088742</td>\n",
              "      <td>813.538535</td>\n",
              "      <td>13890.967782</td>\n",
              "      <td>6178.027333</td>\n",
              "      <td>17595.079468</td>\n",
              "      <td>11932.992369</td>\n",
              "      <td>32008.474808</td>\n",
              "      <td>22161.825935</td>\n",
              "      <td>6068.936108</td>\n",
              "      <td>21.153068</td>\n",
              "      <td>0.121276</td>\n",
              "      <td>3.301523</td>\n",
              "      <td>1.097444</td>\n",
              "    </tr>\n",
              "    <tr>\n",
              "      <th>min</th>\n",
              "      <td>25.434333</td>\n",
              "      <td>-80.542172</td>\n",
              "      <td>1.020008e+11</td>\n",
              "      <td>7.200000e+04</td>\n",
              "      <td>1248.000000</td>\n",
              "      <td>854.000000</td>\n",
              "      <td>0.000000</td>\n",
              "      <td>10.500000</td>\n",
              "      <td>236.100000</td>\n",
              "      <td>0.000000</td>\n",
              "      <td>3825.600000</td>\n",
              "      <td>1462.800000</td>\n",
              "      <td>90.200000</td>\n",
              "      <td>0.000000</td>\n",
              "      <td>0.000000</td>\n",
              "      <td>1.000000</td>\n",
              "      <td>1.000000</td>\n",
              "    </tr>\n",
              "    <tr>\n",
              "      <th>25%</th>\n",
              "      <td>25.620056</td>\n",
              "      <td>-80.403278</td>\n",
              "      <td>1.079160e+12</td>\n",
              "      <td>2.350000e+05</td>\n",
              "      <td>5400.000000</td>\n",
              "      <td>1470.000000</td>\n",
              "      <td>810.000000</td>\n",
              "      <td>3299.450000</td>\n",
              "      <td>18079.350000</td>\n",
              "      <td>2675.850000</td>\n",
              "      <td>42823.100000</td>\n",
              "      <td>23996.250000</td>\n",
              "      <td>2998.125000</td>\n",
              "      <td>14.000000</td>\n",
              "      <td>0.000000</td>\n",
              "      <td>4.000000</td>\n",
              "      <td>2.000000</td>\n",
              "    </tr>\n",
              "    <tr>\n",
              "      <th>50%</th>\n",
              "      <td>25.731810</td>\n",
              "      <td>-80.338911</td>\n",
              "      <td>3.040300e+12</td>\n",
              "      <td>3.100000e+05</td>\n",
              "      <td>7500.000000</td>\n",
              "      <td>1877.500000</td>\n",
              "      <td>2765.500000</td>\n",
              "      <td>7106.300000</td>\n",
              "      <td>28541.750000</td>\n",
              "      <td>6922.600000</td>\n",
              "      <td>65852.400000</td>\n",
              "      <td>41109.900000</td>\n",
              "      <td>6159.750000</td>\n",
              "      <td>26.000000</td>\n",
              "      <td>0.000000</td>\n",
              "      <td>7.000000</td>\n",
              "      <td>4.000000</td>\n",
              "    </tr>\n",
              "    <tr>\n",
              "      <th>75%</th>\n",
              "      <td>25.852269</td>\n",
              "      <td>-80.258019</td>\n",
              "      <td>3.060170e+12</td>\n",
              "      <td>4.280000e+05</td>\n",
              "      <td>9126.250000</td>\n",
              "      <td>2471.000000</td>\n",
              "      <td>12352.250000</td>\n",
              "      <td>12102.600000</td>\n",
              "      <td>44310.650000</td>\n",
              "      <td>19200.000000</td>\n",
              "      <td>89358.325000</td>\n",
              "      <td>53949.375000</td>\n",
              "      <td>10854.200000</td>\n",
              "      <td>46.000000</td>\n",
              "      <td>0.000000</td>\n",
              "      <td>9.000000</td>\n",
              "      <td>4.000000</td>\n",
              "    </tr>\n",
              "    <tr>\n",
              "      <th>max</th>\n",
              "      <td>25.974382</td>\n",
              "      <td>-80.119746</td>\n",
              "      <td>3.660170e+12</td>\n",
              "      <td>2.650000e+06</td>\n",
              "      <td>57064.000000</td>\n",
              "      <td>6287.000000</td>\n",
              "      <td>175020.000000</td>\n",
              "      <td>29621.500000</td>\n",
              "      <td>75744.900000</td>\n",
              "      <td>50399.800000</td>\n",
              "      <td>159976.500000</td>\n",
              "      <td>110553.800000</td>\n",
              "      <td>48167.300000</td>\n",
              "      <td>96.000000</td>\n",
              "      <td>1.000000</td>\n",
              "      <td>12.000000</td>\n",
              "      <td>5.000000</td>\n",
              "    </tr>\n",
              "  </tbody>\n",
              "</table>\n",
              "</div>\n",
              "    <div class=\"colab-df-buttons\">\n",
              "\n",
              "  <div class=\"colab-df-container\">\n",
              "    <button class=\"colab-df-convert\" onclick=\"convertToInteractive('df-2a7acc7b-9593-462a-9513-adf9ca77f24f')\"\n",
              "            title=\"Convert this dataframe to an interactive table.\"\n",
              "            style=\"display:none;\">\n",
              "\n",
              "  <svg xmlns=\"http://www.w3.org/2000/svg\" height=\"24px\" viewBox=\"0 -960 960 960\">\n",
              "    <path d=\"M120-120v-720h720v720H120Zm60-500h600v-160H180v160Zm220 220h160v-160H400v160Zm0 220h160v-160H400v160ZM180-400h160v-160H180v160Zm440 0h160v-160H620v160ZM180-180h160v-160H180v160Zm440 0h160v-160H620v160Z\"/>\n",
              "  </svg>\n",
              "    </button>\n",
              "\n",
              "  <style>\n",
              "    .colab-df-container {\n",
              "      display:flex;\n",
              "      gap: 12px;\n",
              "    }\n",
              "\n",
              "    .colab-df-convert {\n",
              "      background-color: #E8F0FE;\n",
              "      border: none;\n",
              "      border-radius: 50%;\n",
              "      cursor: pointer;\n",
              "      display: none;\n",
              "      fill: #1967D2;\n",
              "      height: 32px;\n",
              "      padding: 0 0 0 0;\n",
              "      width: 32px;\n",
              "    }\n",
              "\n",
              "    .colab-df-convert:hover {\n",
              "      background-color: #E2EBFA;\n",
              "      box-shadow: 0px 1px 2px rgba(60, 64, 67, 0.3), 0px 1px 3px 1px rgba(60, 64, 67, 0.15);\n",
              "      fill: #174EA6;\n",
              "    }\n",
              "\n",
              "    .colab-df-buttons div {\n",
              "      margin-bottom: 4px;\n",
              "    }\n",
              "\n",
              "    [theme=dark] .colab-df-convert {\n",
              "      background-color: #3B4455;\n",
              "      fill: #D2E3FC;\n",
              "    }\n",
              "\n",
              "    [theme=dark] .colab-df-convert:hover {\n",
              "      background-color: #434B5C;\n",
              "      box-shadow: 0px 1px 3px 1px rgba(0, 0, 0, 0.15);\n",
              "      filter: drop-shadow(0px 1px 2px rgba(0, 0, 0, 0.3));\n",
              "      fill: #FFFFFF;\n",
              "    }\n",
              "  </style>\n",
              "\n",
              "    <script>\n",
              "      const buttonEl =\n",
              "        document.querySelector('#df-2a7acc7b-9593-462a-9513-adf9ca77f24f button.colab-df-convert');\n",
              "      buttonEl.style.display =\n",
              "        google.colab.kernel.accessAllowed ? 'block' : 'none';\n",
              "\n",
              "      async function convertToInteractive(key) {\n",
              "        const element = document.querySelector('#df-2a7acc7b-9593-462a-9513-adf9ca77f24f');\n",
              "        const dataTable =\n",
              "          await google.colab.kernel.invokeFunction('convertToInteractive',\n",
              "                                                    [key], {});\n",
              "        if (!dataTable) return;\n",
              "\n",
              "        const docLinkHtml = 'Like what you see? Visit the ' +\n",
              "          '<a target=\"_blank\" href=https://colab.research.google.com/notebooks/data_table.ipynb>data table notebook</a>'\n",
              "          + ' to learn more about interactive tables.';\n",
              "        element.innerHTML = '';\n",
              "        dataTable['output_type'] = 'display_data';\n",
              "        await google.colab.output.renderOutput(dataTable, element);\n",
              "        const docLink = document.createElement('div');\n",
              "        docLink.innerHTML = docLinkHtml;\n",
              "        element.appendChild(docLink);\n",
              "      }\n",
              "    </script>\n",
              "  </div>\n",
              "\n",
              "\n",
              "<div id=\"df-61f617ce-e57e-4923-bdf5-5343d09a5553\">\n",
              "  <button class=\"colab-df-quickchart\" onclick=\"quickchart('df-61f617ce-e57e-4923-bdf5-5343d09a5553')\"\n",
              "            title=\"Suggest charts\"\n",
              "            style=\"display:none;\">\n",
              "\n",
              "<svg xmlns=\"http://www.w3.org/2000/svg\" height=\"24px\"viewBox=\"0 0 24 24\"\n",
              "     width=\"24px\">\n",
              "    <g>\n",
              "        <path d=\"M19 3H5c-1.1 0-2 .9-2 2v14c0 1.1.9 2 2 2h14c1.1 0 2-.9 2-2V5c0-1.1-.9-2-2-2zM9 17H7v-7h2v7zm4 0h-2V7h2v10zm4 0h-2v-4h2v4z\"/>\n",
              "    </g>\n",
              "</svg>\n",
              "  </button>\n",
              "\n",
              "<style>\n",
              "  .colab-df-quickchart {\n",
              "      --bg-color: #E8F0FE;\n",
              "      --fill-color: #1967D2;\n",
              "      --hover-bg-color: #E2EBFA;\n",
              "      --hover-fill-color: #174EA6;\n",
              "      --disabled-fill-color: #AAA;\n",
              "      --disabled-bg-color: #DDD;\n",
              "  }\n",
              "\n",
              "  [theme=dark] .colab-df-quickchart {\n",
              "      --bg-color: #3B4455;\n",
              "      --fill-color: #D2E3FC;\n",
              "      --hover-bg-color: #434B5C;\n",
              "      --hover-fill-color: #FFFFFF;\n",
              "      --disabled-bg-color: #3B4455;\n",
              "      --disabled-fill-color: #666;\n",
              "  }\n",
              "\n",
              "  .colab-df-quickchart {\n",
              "    background-color: var(--bg-color);\n",
              "    border: none;\n",
              "    border-radius: 50%;\n",
              "    cursor: pointer;\n",
              "    display: none;\n",
              "    fill: var(--fill-color);\n",
              "    height: 32px;\n",
              "    padding: 0;\n",
              "    width: 32px;\n",
              "  }\n",
              "\n",
              "  .colab-df-quickchart:hover {\n",
              "    background-color: var(--hover-bg-color);\n",
              "    box-shadow: 0 1px 2px rgba(60, 64, 67, 0.3), 0 1px 3px 1px rgba(60, 64, 67, 0.15);\n",
              "    fill: var(--button-hover-fill-color);\n",
              "  }\n",
              "\n",
              "  .colab-df-quickchart-complete:disabled,\n",
              "  .colab-df-quickchart-complete:disabled:hover {\n",
              "    background-color: var(--disabled-bg-color);\n",
              "    fill: var(--disabled-fill-color);\n",
              "    box-shadow: none;\n",
              "  }\n",
              "\n",
              "  .colab-df-spinner {\n",
              "    border: 2px solid var(--fill-color);\n",
              "    border-color: transparent;\n",
              "    border-bottom-color: var(--fill-color);\n",
              "    animation:\n",
              "      spin 1s steps(1) infinite;\n",
              "  }\n",
              "\n",
              "  @keyframes spin {\n",
              "    0% {\n",
              "      border-color: transparent;\n",
              "      border-bottom-color: var(--fill-color);\n",
              "      border-left-color: var(--fill-color);\n",
              "    }\n",
              "    20% {\n",
              "      border-color: transparent;\n",
              "      border-left-color: var(--fill-color);\n",
              "      border-top-color: var(--fill-color);\n",
              "    }\n",
              "    30% {\n",
              "      border-color: transparent;\n",
              "      border-left-color: var(--fill-color);\n",
              "      border-top-color: var(--fill-color);\n",
              "      border-right-color: var(--fill-color);\n",
              "    }\n",
              "    40% {\n",
              "      border-color: transparent;\n",
              "      border-right-color: var(--fill-color);\n",
              "      border-top-color: var(--fill-color);\n",
              "    }\n",
              "    60% {\n",
              "      border-color: transparent;\n",
              "      border-right-color: var(--fill-color);\n",
              "    }\n",
              "    80% {\n",
              "      border-color: transparent;\n",
              "      border-right-color: var(--fill-color);\n",
              "      border-bottom-color: var(--fill-color);\n",
              "    }\n",
              "    90% {\n",
              "      border-color: transparent;\n",
              "      border-bottom-color: var(--fill-color);\n",
              "    }\n",
              "  }\n",
              "</style>\n",
              "\n",
              "  <script>\n",
              "    async function quickchart(key) {\n",
              "      const quickchartButtonEl =\n",
              "        document.querySelector('#' + key + ' button');\n",
              "      quickchartButtonEl.disabled = true;  // To prevent multiple clicks.\n",
              "      quickchartButtonEl.classList.add('colab-df-spinner');\n",
              "      try {\n",
              "        const charts = await google.colab.kernel.invokeFunction(\n",
              "            'suggestCharts', [key], {});\n",
              "      } catch (error) {\n",
              "        console.error('Error during call to suggestCharts:', error);\n",
              "      }\n",
              "      quickchartButtonEl.classList.remove('colab-df-spinner');\n",
              "      quickchartButtonEl.classList.add('colab-df-quickchart-complete');\n",
              "    }\n",
              "    (() => {\n",
              "      let quickchartButtonEl =\n",
              "        document.querySelector('#df-61f617ce-e57e-4923-bdf5-5343d09a5553 button');\n",
              "      quickchartButtonEl.style.display =\n",
              "        google.colab.kernel.accessAllowed ? 'block' : 'none';\n",
              "    })();\n",
              "  </script>\n",
              "</div>\n",
              "\n",
              "    </div>\n",
              "  </div>\n"
            ],
            "application/vnd.google.colaboratory.intrinsic+json": {
              "type": "dataframe",
              "summary": "{\n  \"name\": \"housing_df\",\n  \"rows\": 8,\n  \"fields\": [\n    {\n      \"column\": \"LATITUDE\",\n      \"properties\": {\n        \"dtype\": \"number\",\n        \"std\": 4917.911454048703,\n        \"min\": 0.1406332845120593,\n        \"max\": 13932.0,\n        \"num_unique_values\": 8,\n        \"samples\": [\n          25.72881143863611,\n          25.73181002835,\n          13932.0\n        ],\n        \"semantic_type\": \"\",\n        \"description\": \"\"\n      }\n    },\n    {\n      \"column\": \"LONGITUDE\",\n      \"properties\": {\n        \"dtype\": \"number\",\n        \"std\": 4950.125477527688,\n        \"min\": -80.5421721039,\n        \"max\": 13932.0,\n        \"num_unique_values\": 8,\n        \"samples\": [\n          -80.32747523309207,\n          -80.33891068049999,\n          13932.0\n        ],\n        \"semantic_type\": \"\",\n        \"description\": \"\"\n      }\n    },\n    {\n      \"column\": \"PARCELNO\",\n      \"properties\": {\n        \"dtype\": \"number\",\n        \"std\": 1409091249568.7258,\n        \"min\": 13932.0,\n        \"max\": 3660170162200.0,\n        \"num_unique_values\": 8,\n        \"samples\": [\n          2356495918249.223,\n          3040300065125.0,\n          13932.0\n        ],\n        \"semantic_type\": \"\",\n        \"description\": \"\"\n      }\n    },\n    {\n      \"column\": \"SALE_PRC\",\n      \"properties\": {\n        \"dtype\": \"number\",\n        \"std\": 859749.4029343717,\n        \"min\": 13932.0,\n        \"max\": 2650000.0,\n        \"num_unique_values\": 8,\n        \"samples\": [\n          399941.9317398794,\n          310000.0,\n          13932.0\n        ],\n        \"semantic_type\": \"\",\n        \"description\": \"\"\n      }\n    },\n    {\n      \"column\": \"LND_SQFOOT\",\n      \"properties\": {\n        \"dtype\": \"number\",\n        \"std\": 17919.477888157013,\n        \"min\": 1248.0,\n        \"max\": 57064.0,\n        \"num_unique_values\": 8,\n        \"samples\": [\n          8620.879916738444,\n          7500.0,\n          13932.0\n        ],\n        \"semantic_type\": \"\",\n        \"description\": \"\"\n      }\n    },\n    {\n      \"column\": \"TOT_LVG_AREA\",\n      \"properties\": {\n        \"dtype\": \"number\",\n        \"std\": 4477.169213243265,\n        \"min\": 813.5385350753386,\n        \"max\": 13932.0,\n        \"num_unique_values\": 8,\n        \"samples\": [\n          2058.044573643411,\n          1877.5,\n          13932.0\n        ],\n        \"semantic_type\": \"\",\n        \"description\": \"\"\n      }\n    },\n    {\n      \"column\": \"SPEC_FEAT_VAL\",\n      \"properties\": {\n        \"dtype\": \"number\",\n        \"std\": 59467.12962587767,\n        \"min\": 0.0,\n        \"max\": 175020.0,\n        \"num_unique_values\": 8,\n        \"samples\": [\n          9562.493468274475,\n          2765.5,\n          13932.0\n        ],\n        \"semantic_type\": \"\",\n        \"description\": \"\"\n      }\n    },\n    {\n      \"column\": \"RAIL_DIST\",\n      \"properties\": {\n        \"dtype\": \"number\",\n        \"std\": 9065.127220093322,\n        \"min\": 10.5,\n        \"max\": 29621.5,\n        \"num_unique_values\": 8,\n        \"samples\": [\n          8348.548715188057,\n          7106.3,\n          13932.0\n        ],\n        \"semantic_type\": \"\",\n        \"description\": \"\"\n      }\n    },\n    {\n      \"column\": \"OCEAN_DIST\",\n      \"properties\": {\n        \"dtype\": \"number\",\n        \"std\": 23084.490057142986,\n        \"min\": 236.1,\n        \"max\": 75744.9,\n        \"num_unique_values\": 8,\n        \"samples\": [\n          31690.993798449614,\n          28541.75,\n          13932.0\n        ],\n        \"semantic_type\": \"\",\n        \"description\": \"\"\n      }\n    },\n    {\n      \"column\": \"WATER_DIST\",\n      \"properties\": {\n        \"dtype\": \"number\",\n        \"std\": 15728.020973449797,\n        \"min\": 0.0,\n        \"max\": 50399.8,\n        \"num_unique_values\": 8,\n        \"samples\": [\n          11960.285235429228,\n          6922.6,\n          13932.0\n        ],\n        \"semantic_type\": \"\",\n        \"description\": \"\"\n      }\n    },\n    {\n      \"column\": \"CNTR_DIST\",\n      \"properties\": {\n        \"dtype\": \"number\",\n        \"std\": 49739.60923678377,\n        \"min\": 3825.6,\n        \"max\": 159976.5,\n        \"num_unique_values\": 8,\n        \"samples\": [\n          68490.32713178293,\n          65852.4,\n          13932.0\n        ],\n        \"semantic_type\": \"\",\n        \"description\": \"\"\n      }\n    },\n    {\n      \"column\": \"SUBCNTR_DI\",\n      \"properties\": {\n        \"dtype\": \"number\",\n        \"std\": 33587.21901094248,\n        \"min\": 1462.8,\n        \"max\": 110553.8,\n        \"num_unique_values\": 8,\n        \"samples\": [\n          41115.047265288544,\n          41109.9,\n          13932.0\n        ],\n        \"semantic_type\": \"\",\n        \"description\": \"\"\n      }\n    },\n    {\n      \"column\": \"HWY_DIST\",\n      \"properties\": {\n        \"dtype\": \"number\",\n        \"std\": 15229.521765458816,\n        \"min\": 90.2,\n        \"max\": 48167.3,\n        \"num_unique_values\": 8,\n        \"samples\": [\n          7723.770693367786,\n          6159.75,\n          13932.0\n        ],\n        \"semantic_type\": \"\",\n        \"description\": \"\"\n      }\n    },\n    {\n      \"column\": \"age\",\n      \"properties\": {\n        \"dtype\": \"number\",\n        \"std\": 4913.980068700743,\n        \"min\": 0.0,\n        \"max\": 13932.0,\n        \"num_unique_values\": 8,\n        \"samples\": [\n          30.669250645994833,\n          26.0,\n          13932.0\n        ],\n        \"semantic_type\": \"\",\n        \"description\": \"\"\n      }\n    },\n    {\n      \"column\": \"avno60plus\",\n      \"properties\": {\n        \"dtype\": \"number\",\n        \"std\": 4925.648462747299,\n        \"min\": 0.0,\n        \"max\": 13932.0,\n        \"num_unique_values\": 5,\n        \"samples\": [\n          0.014929658340511054,\n          1.0,\n          0.12127579860998042\n        ],\n        \"semantic_type\": \"\",\n        \"description\": \"\"\n      }\n    },\n    {\n      \"column\": \"month_sold\",\n      \"properties\": {\n        \"dtype\": \"number\",\n        \"std\": 4923.53736188466,\n        \"min\": 1.0,\n        \"max\": 13932.0,\n        \"num_unique_values\": 8,\n        \"samples\": [\n          6.655828308929084,\n          7.0,\n          13932.0\n        ],\n        \"semantic_type\": \"\",\n        \"description\": \"\"\n      }\n    },\n    {\n      \"column\": \"structure_quality\",\n      \"properties\": {\n        \"dtype\": \"number\",\n        \"std\": 4924.665018345796,\n        \"min\": 1.0,\n        \"max\": 13932.0,\n        \"num_unique_values\": 7,\n        \"samples\": [\n          13932.0,\n          3.513996554694229,\n          4.0\n        ],\n        \"semantic_type\": \"\",\n        \"description\": \"\"\n      }\n    }\n  ]\n}"
            }
          },
          "metadata": {},
          "execution_count": 60
        }
      ],
      "source": [
        "housing_df.describe() # Describe my data, show std, min, 25%, 50%, 75%, and max by rows"
      ]
    },
    {
      "cell_type": "code",
      "execution_count": null,
      "metadata": {
        "id": "CvFGH7i760f4"
      },
      "outputs": [],
      "source": [
        "# Import standardScaler\n",
        "from sklearn.preprocessing import StandardScaler\n"
      ]
    },
    {
      "cell_type": "code",
      "execution_count": null,
      "metadata": {
        "colab": {
          "base_uri": "https://localhost:8080/",
          "height": 74
        },
        "id": "gs43nwbaCYe5",
        "outputId": "9a303d92-1002-4b9a-e467-66be56ee05a2"
      },
      "outputs": [
        {
          "output_type": "execute_result",
          "data": {
            "text/plain": [
              "LinearRegression()"
            ],
            "text/html": [
              "<style>#sk-container-id-4 {color: black;}#sk-container-id-4 pre{padding: 0;}#sk-container-id-4 div.sk-toggleable {background-color: white;}#sk-container-id-4 label.sk-toggleable__label {cursor: pointer;display: block;width: 100%;margin-bottom: 0;padding: 0.3em;box-sizing: border-box;text-align: center;}#sk-container-id-4 label.sk-toggleable__label-arrow:before {content: \"▸\";float: left;margin-right: 0.25em;color: #696969;}#sk-container-id-4 label.sk-toggleable__label-arrow:hover:before {color: black;}#sk-container-id-4 div.sk-estimator:hover label.sk-toggleable__label-arrow:before {color: black;}#sk-container-id-4 div.sk-toggleable__content {max-height: 0;max-width: 0;overflow: hidden;text-align: left;background-color: #f0f8ff;}#sk-container-id-4 div.sk-toggleable__content pre {margin: 0.2em;color: black;border-radius: 0.25em;background-color: #f0f8ff;}#sk-container-id-4 input.sk-toggleable__control:checked~div.sk-toggleable__content {max-height: 200px;max-width: 100%;overflow: auto;}#sk-container-id-4 input.sk-toggleable__control:checked~label.sk-toggleable__label-arrow:before {content: \"▾\";}#sk-container-id-4 div.sk-estimator input.sk-toggleable__control:checked~label.sk-toggleable__label {background-color: #d4ebff;}#sk-container-id-4 div.sk-label input.sk-toggleable__control:checked~label.sk-toggleable__label {background-color: #d4ebff;}#sk-container-id-4 input.sk-hidden--visually {border: 0;clip: rect(1px 1px 1px 1px);clip: rect(1px, 1px, 1px, 1px);height: 1px;margin: -1px;overflow: hidden;padding: 0;position: absolute;width: 1px;}#sk-container-id-4 div.sk-estimator {font-family: monospace;background-color: #f0f8ff;border: 1px dotted black;border-radius: 0.25em;box-sizing: border-box;margin-bottom: 0.5em;}#sk-container-id-4 div.sk-estimator:hover {background-color: #d4ebff;}#sk-container-id-4 div.sk-parallel-item::after {content: \"\";width: 100%;border-bottom: 1px solid gray;flex-grow: 1;}#sk-container-id-4 div.sk-label:hover label.sk-toggleable__label {background-color: #d4ebff;}#sk-container-id-4 div.sk-serial::before {content: \"\";position: absolute;border-left: 1px solid gray;box-sizing: border-box;top: 0;bottom: 0;left: 50%;z-index: 0;}#sk-container-id-4 div.sk-serial {display: flex;flex-direction: column;align-items: center;background-color: white;padding-right: 0.2em;padding-left: 0.2em;position: relative;}#sk-container-id-4 div.sk-item {position: relative;z-index: 1;}#sk-container-id-4 div.sk-parallel {display: flex;align-items: stretch;justify-content: center;background-color: white;position: relative;}#sk-container-id-4 div.sk-item::before, #sk-container-id-4 div.sk-parallel-item::before {content: \"\";position: absolute;border-left: 1px solid gray;box-sizing: border-box;top: 0;bottom: 0;left: 50%;z-index: -1;}#sk-container-id-4 div.sk-parallel-item {display: flex;flex-direction: column;z-index: 1;position: relative;background-color: white;}#sk-container-id-4 div.sk-parallel-item:first-child::after {align-self: flex-end;width: 50%;}#sk-container-id-4 div.sk-parallel-item:last-child::after {align-self: flex-start;width: 50%;}#sk-container-id-4 div.sk-parallel-item:only-child::after {width: 0;}#sk-container-id-4 div.sk-dashed-wrapped {border: 1px dashed gray;margin: 0 0.4em 0.5em 0.4em;box-sizing: border-box;padding-bottom: 0.4em;background-color: white;}#sk-container-id-4 div.sk-label label {font-family: monospace;font-weight: bold;display: inline-block;line-height: 1.2em;}#sk-container-id-4 div.sk-label-container {text-align: center;}#sk-container-id-4 div.sk-container {/* jupyter's `normalize.less` sets `[hidden] { display: none; }` but bootstrap.min.css set `[hidden] { display: none !important; }` so we also need the `!important` here to be able to override the default hidden behavior on the sphinx rendered scikit-learn.org. See: https://github.com/scikit-learn/scikit-learn/issues/21755 */display: inline-block !important;position: relative;}#sk-container-id-4 div.sk-text-repr-fallback {display: none;}</style><div id=\"sk-container-id-4\" class=\"sk-top-container\"><div class=\"sk-text-repr-fallback\"><pre>LinearRegression()</pre><b>In a Jupyter environment, please rerun this cell to show the HTML representation or trust the notebook. <br />On GitHub, the HTML representation is unable to render, please try loading this page with nbviewer.org.</b></div><div class=\"sk-container\" hidden><div class=\"sk-item\"><div class=\"sk-estimator sk-toggleable\"><input class=\"sk-toggleable__control sk-hidden--visually\" id=\"sk-estimator-id-10\" type=\"checkbox\" checked><label for=\"sk-estimator-id-10\" class=\"sk-toggleable__label sk-toggleable__label-arrow\">LinearRegression</label><div class=\"sk-toggleable__content\"><pre>LinearRegression()</pre></div></div></div></div></div>"
            ]
          },
          "metadata": {},
          "execution_count": 62
        }
      ],
      "source": [
        "# Import certain dependencies\n",
        "from sklearn.model_selection import train_test_split\n",
        "from sklearn.linear_model import LinearRegression\n",
        "from sklearn.metrics import mean_squared_error, r2_score\n",
        "\n",
        "# Separate target from features\n",
        "X = housing_df.drop(columns=['SALE_PRC'])\n",
        "y = housing_df['SALE_PRC']\n",
        "\n",
        "# Separate 80 / 20 == 100 for training and test\n",
        "X_train, X_test, y_train, y_test = train_test_split(X, y, test_size=0.2, random_state=42)\n",
        "\n",
        "# Scale X_train and X_test with standard Scaler to standarize\n",
        "scaler = StandardScaler()\n",
        "X_train_scaled = scaler.fit_transform(X_train)\n",
        "X_test_scaled = scaler.transform(X_test)\n",
        "\n",
        "# Instantiate the Linear Regression model and fit it to the data\n",
        "reg = LinearRegression()\n",
        "reg.fit(X_train_scaled, y_train)\n"
      ]
    },
    {
      "cell_type": "code",
      "execution_count": null,
      "metadata": {
        "colab": {
          "base_uri": "https://localhost:8080/"
        },
        "id": "Z7bDyFRqFCSF",
        "outputId": "feccceff-8cc6-484a-8213-f587988a6575"
      },
      "outputs": [
        {
          "output_type": "execute_result",
          "data": {
            "text/plain": [
              "0.7096473683383338"
            ]
          },
          "metadata": {},
          "execution_count": 63
        }
      ],
      "source": [
        "# see the accuracy of the model on test split\n",
        "reg.score(X_test_scaled, y_test)"
      ]
    },
    {
      "cell_type": "code",
      "execution_count": null,
      "metadata": {
        "colab": {
          "base_uri": "https://localhost:8080/"
        },
        "id": "u4ya3k1DFg4i",
        "outputId": "d71060b0-31ac-4a98-968b-5de136a7a6ee"
      },
      "outputs": [
        {
          "output_type": "execute_result",
          "data": {
            "text/plain": [
              "array([331907.70885066, 390210.23606657, 438998.46615652, ...,\n",
              "       414456.7407805 , 644421.30167683,  67409.20087146])"
            ]
          },
          "metadata": {},
          "execution_count": 64
        }
      ],
      "source": [
        "# Save and see the predictions\n",
        "y_preds = reg.predict(X_test_scaled)\n",
        "\n",
        "y_preds"
      ]
    },
    {
      "cell_type": "code",
      "execution_count": null,
      "metadata": {
        "colab": {
          "base_uri": "https://localhost:8080/"
        },
        "id": "sHMCDObjFvys",
        "outputId": "9a65a269-ea67-4d3b-ab93-ca22f69611bc"
      },
      "outputs": [
        {
          "output_type": "stream",
          "name": "stdout",
          "text": [
            "128940.53856961611\n"
          ]
        }
      ],
      "source": [
        "\n",
        "# Import cross val_score\n",
        "from sklearn.model_selection import cross_val_score\n",
        "from sklearn.pipeline import Pipeline # Import the pipeline module\n",
        "\n",
        "\n",
        "# Instantiate Pipeline\n",
        "pipeline = Pipeline([\n",
        "    (\"scaler\", StandardScaler()),\n",
        "    (\"regressor\", LinearRegression())\n",
        "])\n",
        "\n",
        "\n",
        "# Perform cross-validation\n",
        "scores = cross_val_score(pipeline, X, y, cv=5, scoring=\"neg_mean_absolute_error\")\n",
        "\n",
        "# Print the mean of the scores\n",
        "print(np.mean(-scores))\n"
      ]
    },
    {
      "cell_type": "code",
      "execution_count": null,
      "metadata": {
        "id": "291W1G43GBeb"
      },
      "outputs": [],
      "source": [
        "# Import Ridge, Lasso, ElasticNet\n",
        "from sklearn.linear_model import Ridge, Lasso, ElasticNet\n",
        "\n",
        "# Create a dictionary of models\n",
        "models = {\n",
        "    \"LinearRegression\": LinearRegression(),\n",
        "    \"Ridge\": Ridge(),\n",
        "    \"Lasso\": Lasso(),\n",
        "    \"ElasticNet\": ElasticNet()\n",
        "}\n",
        "\n",
        "\n",
        "# Create an empty dictionary\n",
        "model_results = {}\n",
        "\n",
        "# Fit and score the models\n",
        "for name, model in models.items():\n",
        "    model.fit(X_train_scaled, y_train)\n",
        "    model_results[name] = model.score(X_test_scaled, y_test)"
      ]
    },
    {
      "cell_type": "code",
      "execution_count": null,
      "metadata": {
        "colab": {
          "base_uri": "https://localhost:8080/"
        },
        "id": "jfKj8EcoJp8W",
        "outputId": "e8c5fe73-a0c2-41a1-875d-7800708fffda"
      },
      "outputs": [
        {
          "output_type": "stream",
          "name": "stdout",
          "text": [
            "0.7096673743918999\n"
          ]
        }
      ],
      "source": [
        "print(np.max(list(model_results.values()))) # See the best model"
      ]
    },
    {
      "cell_type": "code",
      "execution_count": null,
      "metadata": {
        "colab": {
          "base_uri": "https://localhost:8080/"
        },
        "id": "pixbQ_S-_6tc",
        "outputId": "2319c467-5b80-4f14-a186-258d63352b55"
      },
      "outputs": [
        {
          "output_type": "stream",
          "name": "stdout",
          "text": [
            "{'LinearRegression': 0.7096473683383338, 'Ridge': 0.7096673743918999, 'Lasso': 0.7096500377225632, 'ElasticNet': 0.6732416712205292}\n"
          ]
        }
      ],
      "source": [
        "print(model_results) # See the results of the models"
      ]
    },
    {
      "cell_type": "code",
      "execution_count": null,
      "metadata": {
        "colab": {
          "base_uri": "https://localhost:8080/",
          "height": 477
        },
        "id": "SkTm1tllLr9H",
        "outputId": "5f70cca3-ebf5-4d21-b07f-f9da08d981a7"
      },
      "outputs": [
        {
          "output_type": "display_data",
          "data": {
            "text/plain": [
              "<Figure size 640x480 with 1 Axes>"
            ],
            "image/png": "[encoded data removed]"
          },
          "metadata": {}
        }
      ],
      "source": [
        "# Create a bar plot of the models\n",
        "fig, ax = plt.subplots()\n",
        "\n",
        "# Plot the results\n",
        "ax.bar(model_results.keys(), model_results.values())\n",
        "\n",
        "# Set the title and labels\n",
        "ax.set_xlabel(\"Model\")\n",
        "ax.set_ylabel(\"R2 Score\")\n",
        "ax.set_title(\"Model Performance\")\n",
        "plt.show()"
      ]
    },
    {
      "cell_type": "code",
      "execution_count": null,
      "metadata": {
        "colab": {
          "base_uri": "https://localhost:8080/",
          "height": 487
        },
        "id": "tG_ONj75MRX1",
        "outputId": "152dc3b6-d389-4b6e-be05-def0e2d8cdde"
      },
      "outputs": [
        {
          "output_type": "display_data",
          "data": {
            "text/plain": [
              "<Figure size 640x480 with 2 Axes>"
            ],
            "image/png": "[encoded data removed]"
          },
          "metadata": {}
        }
      ],
      "source": [
        "# Create a figure for a scatter plot\n",
        "fig, ax = plt.subplots()\n",
        "\n",
        "\n",
        "# Create a colors randomly distributed numbers between 0 and 255\n",
        "colors = np.random.randint(0, 255, len(y_test))\n",
        "\n",
        "\n",
        "\n",
        "# Create a scatter plot of the actual vs. predicted sale prices\n",
        "scatter = ax.scatter(y_test, y_preds, c=colors, cmap=\"viridis\")\n",
        "\n",
        "# Create a color bar for the scatter\n",
        "cbar = plt.colorbar(scatter)\n",
        "cbar.set_label(\"Color Scale\")\n",
        "\n",
        "# Draw the regression line on the scatter\n",
        "plt.plot(y_test, y_test, color=\"black\", linestyle=\"--\")\n",
        "\n",
        "# Setting title, y and x labels\n",
        "ax.set(\n",
        "    xlabel=\"Actual Sale Price\",\n",
        "    ylabel=\"Predicted Sale Price\",\n",
        "    title=\"Actual vs. Predicted Sale Price\"\n",
        ")\n",
        "\n",
        "\n",
        "plt.tight_layout()\n",
        "plt.show()"
      ]
    },
    {
      "cell_type": "code",
      "execution_count": null,
      "metadata": {
        "id": "T4I-NNKeDDjz"
      },
      "outputs": [],
      "source": [
        "# Create a ridge pipeline and at the same time standarize it\n",
        "ridge_pipeline = Pipeline([\n",
        "    (\"scaler\", StandardScaler()),\n",
        "    (\"regressor\", Ridge())\n",
        "])"
      ]
    },
    {
      "cell_type": "code",
      "execution_count": null,
      "metadata": {
        "colab": {
          "base_uri": "https://localhost:8080/",
          "height": 149
        },
        "id": "DjYCTTFAbRss",
        "outputId": "7d93b350-8ea0-47a4-e551-8c445736a0e8"
      },
      "outputs": [
        {
          "output_type": "execute_result",
          "data": {
            "text/plain": [
              "GridSearchCV(cv=5,\n",
              "             estimator=Pipeline(steps=[('scaler', StandardScaler()),\n",
              "                                       ('regressor', Ridge())]),\n",
              "             param_grid={'regressor__alpha': [1e-15, 1e-10, 1e-08, 0.001, 0.01,\n",
              "                                              1, 5, 10, 20, 30, 35, 40, 45, 50,\n",
              "                                              55, 100]},\n",
              "             scoring='r2')"
            ],
            "text/html": [
              "<style>#sk-container-id-5 {color: black;}#sk-container-id-5 pre{padding: 0;}#sk-container-id-5 div.sk-toggleable {background-color: white;}#sk-container-id-5 label.sk-toggleable__label {cursor: pointer;display: block;width: 100%;margin-bottom: 0;padding: 0.3em;box-sizing: border-box;text-align: center;}#sk-container-id-5 label.sk-toggleable__label-arrow:before {content: \"▸\";float: left;margin-right: 0.25em;color: #696969;}#sk-container-id-5 label.sk-toggleable__label-arrow:hover:before {color: black;}#sk-container-id-5 div.sk-estimator:hover label.sk-toggleable__label-arrow:before {color: black;}#sk-container-id-5 div.sk-toggleable__content {max-height: 0;max-width: 0;overflow: hidden;text-align: left;background-color: #f0f8ff;}#sk-container-id-5 div.sk-toggleable__content pre {margin: 0.2em;color: black;border-radius: 0.25em;background-color: #f0f8ff;}#sk-container-id-5 input.sk-toggleable__control:checked~div.sk-toggleable__content {max-height: 200px;max-width: 100%;overflow: auto;}#sk-container-id-5 input.sk-toggleable__control:checked~label.sk-toggleable__label-arrow:before {content: \"▾\";}#sk-container-id-5 div.sk-estimator input.sk-toggleable__control:checked~label.sk-toggleable__label {background-color: #d4ebff;}#sk-container-id-5 div.sk-label input.sk-toggleable__control:checked~label.sk-toggleable__label {background-color: #d4ebff;}#sk-container-id-5 input.sk-hidden--visually {border: 0;clip: rect(1px 1px 1px 1px);clip: rect(1px, 1px, 1px, 1px);height: 1px;margin: -1px;overflow: hidden;padding: 0;position: absolute;width: 1px;}#sk-container-id-5 div.sk-estimator {font-family: monospace;background-color: #f0f8ff;border: 1px dotted black;border-radius: 0.25em;box-sizing: border-box;margin-bottom: 0.5em;}#sk-container-id-5 div.sk-estimator:hover {background-color: #d4ebff;}#sk-container-id-5 div.sk-parallel-item::after {content: \"\";width: 100%;border-bottom: 1px solid gray;flex-grow: 1;}#sk-container-id-5 div.sk-label:hover label.sk-toggleable__label {background-color: #d4ebff;}#sk-container-id-5 div.sk-serial::before {content: \"\";position: absolute;border-left: 1px solid gray;box-sizing: border-box;top: 0;bottom: 0;left: 50%;z-index: 0;}#sk-container-id-5 div.sk-serial {display: flex;flex-direction: column;align-items: center;background-color: white;padding-right: 0.2em;padding-left: 0.2em;position: relative;}#sk-container-id-5 div.sk-item {position: relative;z-index: 1;}#sk-container-id-5 div.sk-parallel {display: flex;align-items: stretch;justify-content: center;background-color: white;position: relative;}#sk-container-id-5 div.sk-item::before, #sk-container-id-5 div.sk-parallel-item::before {content: \"\";position: absolute;border-left: 1px solid gray;box-sizing: border-box;top: 0;bottom: 0;left: 50%;z-index: -1;}#sk-container-id-5 div.sk-parallel-item {display: flex;flex-direction: column;z-index: 1;position: relative;background-color: white;}#sk-container-id-5 div.sk-parallel-item:first-child::after {align-self: flex-end;width: 50%;}#sk-container-id-5 div.sk-parallel-item:last-child::after {align-self: flex-start;width: 50%;}#sk-container-id-5 div.sk-parallel-item:only-child::after {width: 0;}#sk-container-id-5 div.sk-dashed-wrapped {border: 1px dashed gray;margin: 0 0.4em 0.5em 0.4em;box-sizing: border-box;padding-bottom: 0.4em;background-color: white;}#sk-container-id-5 div.sk-label label {font-family: monospace;font-weight: bold;display: inline-block;line-height: 1.2em;}#sk-container-id-5 div.sk-label-container {text-align: center;}#sk-container-id-5 div.sk-container {/* jupyter's `normalize.less` sets `[hidden] { display: none; }` but bootstrap.min.css set `[hidden] { display: none !important; }` so we also need the `!important` here to be able to override the default hidden behavior on the sphinx rendered scikit-learn.org. See: https://github.com/scikit-learn/scikit-learn/issues/21755 */display: inline-block !important;position: relative;}#sk-container-id-5 div.sk-text-repr-fallback {display: none;}</style><div id=\"sk-container-id-5\" class=\"sk-top-container\"><div class=\"sk-text-repr-fallback\"><pre>GridSearchCV(cv=5,\n",
              "             estimator=Pipeline(steps=[(&#x27;scaler&#x27;, StandardScaler()),\n",
              "                                       (&#x27;regressor&#x27;, Ridge())]),\n",
              "             param_grid={&#x27;regressor__alpha&#x27;: [1e-15, 1e-10, 1e-08, 0.001, 0.01,\n",
              "                                              1, 5, 10, 20, 30, 35, 40, 45, 50,\n",
              "                                              55, 100]},\n",
              "             scoring=&#x27;r2&#x27;)</pre><b>In a Jupyter environment, please rerun this cell to show the HTML representation or trust the notebook. <br />On GitHub, the HTML representation is unable to render, please try loading this page with nbviewer.org.</b></div><div class=\"sk-container\" hidden><div class=\"sk-item sk-dashed-wrapped\"><div class=\"sk-label-container\"><div class=\"sk-label sk-toggleable\"><input class=\"sk-toggleable__control sk-hidden--visually\" id=\"sk-estimator-id-11\" type=\"checkbox\" ><label for=\"sk-estimator-id-11\" class=\"sk-toggleable__label sk-toggleable__label-arrow\">GridSearchCV</label><div class=\"sk-toggleable__content\"><pre>GridSearchCV(cv=5,\n",
              "             estimator=Pipeline(steps=[(&#x27;scaler&#x27;, StandardScaler()),\n",
              "                                       (&#x27;regressor&#x27;, Ridge())]),\n",
              "             param_grid={&#x27;regressor__alpha&#x27;: [1e-15, 1e-10, 1e-08, 0.001, 0.01,\n",
              "                                              1, 5, 10, 20, 30, 35, 40, 45, 50,\n",
              "                                              55, 100]},\n",
              "             scoring=&#x27;r2&#x27;)</pre></div></div></div><div class=\"sk-parallel\"><div class=\"sk-parallel-item\"><div class=\"sk-item\"><div class=\"sk-label-container\"><div class=\"sk-label sk-toggleable\"><input class=\"sk-toggleable__control sk-hidden--visually\" id=\"sk-estimator-id-12\" type=\"checkbox\" ><label for=\"sk-estimator-id-12\" class=\"sk-toggleable__label sk-toggleable__label-arrow\">estimator: Pipeline</label><div class=\"sk-toggleable__content\"><pre>Pipeline(steps=[(&#x27;scaler&#x27;, StandardScaler()), (&#x27;regressor&#x27;, Ridge())])</pre></div></div></div><div class=\"sk-serial\"><div class=\"sk-item\"><div class=\"sk-serial\"><div class=\"sk-item\"><div class=\"sk-estimator sk-toggleable\"><input class=\"sk-toggleable__control sk-hidden--visually\" id=\"sk-estimator-id-13\" type=\"checkbox\" ><label for=\"sk-estimator-id-13\" class=\"sk-toggleable__label sk-toggleable__label-arrow\">StandardScaler</label><div class=\"sk-toggleable__content\"><pre>StandardScaler()</pre></div></div></div><div class=\"sk-item\"><div class=\"sk-estimator sk-toggleable\"><input class=\"sk-toggleable__control sk-hidden--visually\" id=\"sk-estimator-id-14\" type=\"checkbox\" ><label for=\"sk-estimator-id-14\" class=\"sk-toggleable__label sk-toggleable__label-arrow\">Ridge</label><div class=\"sk-toggleable__content\"><pre>Ridge()</pre></div></div></div></div></div></div></div></div></div></div></div></div>"
            ]
          },
          "metadata": {},
          "execution_count": 72
        }
      ],
      "source": [
        "# We see how close we're to even having a 90%, I think we've got to use hyperparameters tuning\n",
        "from sklearn.model_selection import GridSearchCV\n",
        "\n",
        "\n",
        "# Tuning hyperparameter\n",
        "hyper_parameters = {'regressor__alpha':[1e-15,1e-10,1e-8,1e-3,1e-2,1,5,10,20,30,35,40,45,50,55,100]}\n",
        "ridge_regressor = GridSearchCV(ridge_pipeline, hyper_parameters, scoring='r2', cv=5)\n",
        "ridge_regressor.fit(X_train_scaled, y_train)"
      ]
    },
    {
      "cell_type": "code",
      "execution_count": null,
      "metadata": {
        "colab": {
          "base_uri": "https://localhost:8080/"
        },
        "id": "Kf-hUd3PDCmo",
        "outputId": "e3ccbe0b-511c-4f26-ad57-c9ad276d6ebc"
      },
      "outputs": [
        {
          "output_type": "execute_result",
          "data": {
            "text/plain": [
              "{'regressor__alpha': 5}"
            ]
          },
          "metadata": {},
          "execution_count": 73
        }
      ],
      "source": [
        "ridge_regressor.best_params_ # Getting the best parameters"
      ]
    },
    {
      "cell_type": "code",
      "execution_count": null,
      "metadata": {
        "colab": {
          "base_uri": "https://localhost:8080/"
        },
        "id": "lIxBLZ7I-yp9",
        "outputId": "8bd3e5d3-920e-454a-fe27-dbd72b823a5f"
      },
      "outputs": [
        {
          "output_type": "execute_result",
          "data": {
            "text/plain": [
              "0.7139349018655518"
            ]
          },
          "metadata": {},
          "execution_count": 74
        }
      ],
      "source": [
        "ridge_regressor.best_score_ # Getting the best score"
      ]
    },
    {
      "cell_type": "code",
      "execution_count": null,
      "metadata": {
        "colab": {
          "base_uri": "https://localhost:8080/"
        },
        "id": "yCpqiINOGc7h",
        "outputId": "997227b8-df66-4e3f-89a4-8163e9b73bd1"
      },
      "outputs": [
        {
          "output_type": "execute_result",
          "data": {
            "text/plain": [
              "0.7097391258061617"
            ]
          },
          "metadata": {},
          "execution_count": 75
        }
      ],
      "source": [
        "ridge_regressor.score(X_test_scaled, y_test) # Getting the score of the model"
      ]
    },
    {
      "cell_type": "code",
      "execution_count": null,
      "metadata": {
        "colab": {
          "base_uri": "https://localhost:8080/",
          "height": 149
        },
        "id": "QuU985c3Gjnv",
        "outputId": "ba28f739-504d-45d6-a118-0958a2125d6d"
      },
      "outputs": [
        {
          "output_type": "execute_result",
          "data": {
            "text/plain": [
              "GridSearchCV(cv=5,\n",
              "             estimator=Pipeline(steps=[('scaler', StandardScaler()),\n",
              "                                       ('regressor', Ridge())]),\n",
              "             param_grid={'regressor__alpha': [5]}, scoring='r2')"
            ],
            "text/html": [
              "<style>#sk-container-id-6 {color: black;}#sk-container-id-6 pre{padding: 0;}#sk-container-id-6 div.sk-toggleable {background-color: white;}#sk-container-id-6 label.sk-toggleable__label {cursor: pointer;display: block;width: 100%;margin-bottom: 0;padding: 0.3em;box-sizing: border-box;text-align: center;}#sk-container-id-6 label.sk-toggleable__label-arrow:before {content: \"▸\";float: left;margin-right: 0.25em;color: #696969;}#sk-container-id-6 label.sk-toggleable__label-arrow:hover:before {color: black;}#sk-container-id-6 div.sk-estimator:hover label.sk-toggleable__label-arrow:before {color: black;}#sk-container-id-6 div.sk-toggleable__content {max-height: 0;max-width: 0;overflow: hidden;text-align: left;background-color: #f0f8ff;}#sk-container-id-6 div.sk-toggleable__content pre {margin: 0.2em;color: black;border-radius: 0.25em;background-color: #f0f8ff;}#sk-container-id-6 input.sk-toggleable__control:checked~div.sk-toggleable__content {max-height: 200px;max-width: 100%;overflow: auto;}#sk-container-id-6 input.sk-toggleable__control:checked~label.sk-toggleable__label-arrow:before {content: \"▾\";}#sk-container-id-6 div.sk-estimator input.sk-toggleable__control:checked~label.sk-toggleable__label {background-color: #d4ebff;}#sk-container-id-6 div.sk-label input.sk-toggleable__control:checked~label.sk-toggleable__label {background-color: #d4ebff;}#sk-container-id-6 input.sk-hidden--visually {border: 0;clip: rect(1px 1px 1px 1px);clip: rect(1px, 1px, 1px, 1px);height: 1px;margin: -1px;overflow: hidden;padding: 0;position: absolute;width: 1px;}#sk-container-id-6 div.sk-estimator {font-family: monospace;background-color: #f0f8ff;border: 1px dotted black;border-radius: 0.25em;box-sizing: border-box;margin-bottom: 0.5em;}#sk-container-id-6 div.sk-estimator:hover {background-color: #d4ebff;}#sk-container-id-6 div.sk-parallel-item::after {content: \"\";width: 100%;border-bottom: 1px solid gray;flex-grow: 1;}#sk-container-id-6 div.sk-label:hover label.sk-toggleable__label {background-color: #d4ebff;}#sk-container-id-6 div.sk-serial::before {content: \"\";position: absolute;border-left: 1px solid gray;box-sizing: border-box;top: 0;bottom: 0;left: 50%;z-index: 0;}#sk-container-id-6 div.sk-serial {display: flex;flex-direction: column;align-items: center;background-color: white;padding-right: 0.2em;padding-left: 0.2em;position: relative;}#sk-container-id-6 div.sk-item {position: relative;z-index: 1;}#sk-container-id-6 div.sk-parallel {display: flex;align-items: stretch;justify-content: center;background-color: white;position: relative;}#sk-container-id-6 div.sk-item::before, #sk-container-id-6 div.sk-parallel-item::before {content: \"\";position: absolute;border-left: 1px solid gray;box-sizing: border-box;top: 0;bottom: 0;left: 50%;z-index: -1;}#sk-container-id-6 div.sk-parallel-item {display: flex;flex-direction: column;z-index: 1;position: relative;background-color: white;}#sk-container-id-6 div.sk-parallel-item:first-child::after {align-self: flex-end;width: 50%;}#sk-container-id-6 div.sk-parallel-item:last-child::after {align-self: flex-start;width: 50%;}#sk-container-id-6 div.sk-parallel-item:only-child::after {width: 0;}#sk-container-id-6 div.sk-dashed-wrapped {border: 1px dashed gray;margin: 0 0.4em 0.5em 0.4em;box-sizing: border-box;padding-bottom: 0.4em;background-color: white;}#sk-container-id-6 div.sk-label label {font-family: monospace;font-weight: bold;display: inline-block;line-height: 1.2em;}#sk-container-id-6 div.sk-label-container {text-align: center;}#sk-container-id-6 div.sk-container {/* jupyter's `normalize.less` sets `[hidden] { display: none; }` but bootstrap.min.css set `[hidden] { display: none !important; }` so we also need the `!important` here to be able to override the default hidden behavior on the sphinx rendered scikit-learn.org. See: https://github.com/scikit-learn/scikit-learn/issues/21755 */display: inline-block !important;position: relative;}#sk-container-id-6 div.sk-text-repr-fallback {display: none;}</style><div id=\"sk-container-id-6\" class=\"sk-top-container\"><div class=\"sk-text-repr-fallback\"><pre>GridSearchCV(cv=5,\n",
              "             estimator=Pipeline(steps=[(&#x27;scaler&#x27;, StandardScaler()),\n",
              "                                       (&#x27;regressor&#x27;, Ridge())]),\n",
              "             param_grid={&#x27;regressor__alpha&#x27;: [5]}, scoring=&#x27;r2&#x27;)</pre><b>In a Jupyter environment, please rerun this cell to show the HTML representation or trust the notebook. <br />On GitHub, the HTML representation is unable to render, please try loading this page with nbviewer.org.</b></div><div class=\"sk-container\" hidden><div class=\"sk-item sk-dashed-wrapped\"><div class=\"sk-label-container\"><div class=\"sk-label sk-toggleable\"><input class=\"sk-toggleable__control sk-hidden--visually\" id=\"sk-estimator-id-15\" type=\"checkbox\" ><label for=\"sk-estimator-id-15\" class=\"sk-toggleable__label sk-toggleable__label-arrow\">GridSearchCV</label><div class=\"sk-toggleable__content\"><pre>GridSearchCV(cv=5,\n",
              "             estimator=Pipeline(steps=[(&#x27;scaler&#x27;, StandardScaler()),\n",
              "                                       (&#x27;regressor&#x27;, Ridge())]),\n",
              "             param_grid={&#x27;regressor__alpha&#x27;: [5]}, scoring=&#x27;r2&#x27;)</pre></div></div></div><div class=\"sk-parallel\"><div class=\"sk-parallel-item\"><div class=\"sk-item\"><div class=\"sk-label-container\"><div class=\"sk-label sk-toggleable\"><input class=\"sk-toggleable__control sk-hidden--visually\" id=\"sk-estimator-id-16\" type=\"checkbox\" ><label for=\"sk-estimator-id-16\" class=\"sk-toggleable__label sk-toggleable__label-arrow\">estimator: Pipeline</label><div class=\"sk-toggleable__content\"><pre>Pipeline(steps=[(&#x27;scaler&#x27;, StandardScaler()), (&#x27;regressor&#x27;, Ridge())])</pre></div></div></div><div class=\"sk-serial\"><div class=\"sk-item\"><div class=\"sk-serial\"><div class=\"sk-item\"><div class=\"sk-estimator sk-toggleable\"><input class=\"sk-toggleable__control sk-hidden--visually\" id=\"sk-estimator-id-17\" type=\"checkbox\" ><label for=\"sk-estimator-id-17\" class=\"sk-toggleable__label sk-toggleable__label-arrow\">StandardScaler</label><div class=\"sk-toggleable__content\"><pre>StandardScaler()</pre></div></div></div><div class=\"sk-item\"><div class=\"sk-estimator sk-toggleable\"><input class=\"sk-toggleable__control sk-hidden--visually\" id=\"sk-estimator-id-18\" type=\"checkbox\" ><label for=\"sk-estimator-id-18\" class=\"sk-toggleable__label sk-toggleable__label-arrow\">Ridge</label><div class=\"sk-toggleable__content\"><pre>Ridge()</pre></div></div></div></div></div></div></div></div></div></div></div></div>"
            ]
          },
          "metadata": {},
          "execution_count": 76
        }
      ],
      "source": [
        "hyper_parameters = {'regressor__alpha':[5]} # Testing again\n",
        "ridge_regressor = GridSearchCV(ridge_pipeline, hyper_parameters, scoring='r2', cv=5)\n",
        "ridge_regressor.fit(X_train_scaled, y_train)"
      ]
    },
    {
      "cell_type": "code",
      "execution_count": null,
      "metadata": {
        "colab": {
          "base_uri": "https://localhost:8080/"
        },
        "id": "7y6dLg--IR3p",
        "outputId": "e0f68ceb-ecc5-40b2-8713-07e0786e6132"
      },
      "outputs": [
        {
          "output_type": "execute_result",
          "data": {
            "text/plain": [
              "{'regressor__alpha': 5}"
            ]
          },
          "metadata": {},
          "execution_count": 77
        }
      ],
      "source": [
        "ridge_regressor.best_params_ # Doing the same to see if get more than 0.71"
      ]
    },
    {
      "cell_type": "code",
      "execution_count": null,
      "metadata": {
        "colab": {
          "base_uri": "https://localhost:8080/"
        },
        "id": "cVq1bxz7IY3k",
        "outputId": "bd8a9d99-f4a9-4c38-a2b7-daaa797af074"
      },
      "outputs": [
        {
          "output_type": "execute_result",
          "data": {
            "text/plain": [
              "0.7139349018655518"
            ]
          },
          "metadata": {},
          "execution_count": 78
        }
      ],
      "source": [
        "ridge_regressor.best_score_ # Getting the best score"
      ]
    },
    {
      "cell_type": "code",
      "execution_count": null,
      "metadata": {
        "colab": {
          "base_uri": "https://localhost:8080/"
        },
        "id": "cl7oiFgUIaUF",
        "outputId": "f2cedf23-6392-4aae-916a-f2222087ab5d"
      },
      "outputs": [
        {
          "output_type": "execute_result",
          "data": {
            "text/plain": [
              "0.7097391258061617"
            ]
          },
          "metadata": {},
          "execution_count": 79
        }
      ],
      "source": [
        "ridge_regressor.score(X_test_scaled, y_test) # Getting the score of the model"
      ]
    },
    {
      "cell_type": "code",
      "execution_count": null,
      "metadata": {
        "colab": {
          "base_uri": "https://localhost:8080/"
        },
        "id": "seCjsFFqIbmf",
        "outputId": "f6b48330-41ed-4244-aad3-409358122177"
      },
      "outputs": [
        {
          "output_type": "execute_result",
          "data": {
            "text/plain": [
              "array([332480.63241892, 390438.11463336, 438544.56582632, ...,\n",
              "       413775.36346083, 644701.04951321,  67424.03005503])"
            ]
          },
          "metadata": {},
          "execution_count": 80
        }
      ],
      "source": [
        "y_preds = ridge_regressor.predict(X_test_scaled) # Getting the predictions\n",
        "y_preds"
      ]
    },
    {
      "cell_type": "code",
      "execution_count": null,
      "metadata": {
        "colab": {
          "base_uri": "https://localhost:8080/",
          "height": 204
        },
        "id": "snbxmZy2Q2NT",
        "outputId": "2e28ded3-fb15-4db9-ab32-3447c208cdb7"
      },
      "outputs": [
        {
          "output_type": "execute_result",
          "data": {
            "text/plain": [
              "       Actual Sale Price  Predicted Sale Price     Difference\n",
              "6442            380000.0         332480.632419   47519.367581\n",
              "8524            312000.0         390438.114633  -78438.114633\n",
              "13210           330000.0         438544.565826 -108544.565826\n",
              "2501            805000.0         699448.629582  105551.370418\n",
              "168             210000.0         470835.079563 -260835.079563"
            ],
            "text/html": [
              "\n",
              "  <div id=\"df-5337332d-26fa-45f2-bb2c-41f164c4ccfe\" class=\"colab-df-container\">\n",
              "    <div>\n",
              "<style scoped>\n",
              "    .dataframe tbody tr th:only-of-type {\n",
              "        vertical-align: middle;\n",
              "    }\n",
              "\n",
              "    .dataframe tbody tr th {\n",
              "        vertical-align: top;\n",
              "    }\n",
              "\n",
              "    .dataframe thead th {\n",
              "        text-align: right;\n",
              "    }\n",
              "</style>\n",
              "<table border=\"1\" class=\"dataframe\">\n",
              "  <thead>\n",
              "    <tr style=\"text-align: right;\">\n",
              "      <th></th>\n",
              "      <th>Actual Sale Price</th>\n",
              "      <th>Predicted Sale Price</th>\n",
              "      <th>Difference</th>\n",
              "    </tr>\n",
              "  </thead>\n",
              "  <tbody>\n",
              "    <tr>\n",
              "      <th>6442</th>\n",
              "      <td>380000.0</td>\n",
              "      <td>332480.632419</td>\n",
              "      <td>47519.367581</td>\n",
              "    </tr>\n",
              "    <tr>\n",
              "      <th>8524</th>\n",
              "      <td>312000.0</td>\n",
              "      <td>390438.114633</td>\n",
              "      <td>-78438.114633</td>\n",
              "    </tr>\n",
              "    <tr>\n",
              "      <th>13210</th>\n",
              "      <td>330000.0</td>\n",
              "      <td>438544.565826</td>\n",
              "      <td>-108544.565826</td>\n",
              "    </tr>\n",
              "    <tr>\n",
              "      <th>2501</th>\n",
              "      <td>805000.0</td>\n",
              "      <td>699448.629582</td>\n",
              "      <td>105551.370418</td>\n",
              "    </tr>\n",
              "    <tr>\n",
              "      <th>168</th>\n",
              "      <td>210000.0</td>\n",
              "      <td>470835.079563</td>\n",
              "      <td>-260835.079563</td>\n",
              "    </tr>\n",
              "  </tbody>\n",
              "</table>\n",
              "</div>\n",
              "    <div class=\"colab-df-buttons\">\n",
              "\n",
              "  <div class=\"colab-df-container\">\n",
              "    <button class=\"colab-df-convert\" onclick=\"convertToInteractive('df-5337332d-26fa-45f2-bb2c-41f164c4ccfe')\"\n",
              "            title=\"Convert this dataframe to an interactive table.\"\n",
              "            style=\"display:none;\">\n",
              "\n",
              "  <svg xmlns=\"http://www.w3.org/2000/svg\" height=\"24px\" viewBox=\"0 -960 960 960\">\n",
              "    <path d=\"M120-120v-720h720v720H120Zm60-500h600v-160H180v160Zm220 220h160v-160H400v160Zm0 220h160v-160H400v160ZM180-400h160v-160H180v160Zm440 0h160v-160H620v160ZM180-180h160v-160H180v160Zm440 0h160v-160H620v160Z\"/>\n",
              "  </svg>\n",
              "    </button>\n",
              "\n",
              "  <style>\n",
              "    .colab-df-container {\n",
              "      display:flex;\n",
              "      gap: 12px;\n",
              "    }\n",
              "\n",
              "    .colab-df-convert {\n",
              "      background-color: #E8F0FE;\n",
              "      border: none;\n",
              "      border-radius: 50%;\n",
              "      cursor: pointer;\n",
              "      display: none;\n",
              "      fill: #1967D2;\n",
              "      height: 32px;\n",
              "      padding: 0 0 0 0;\n",
              "      width: 32px;\n",
              "    }\n",
              "\n",
              "    .colab-df-convert:hover {\n",
              "      background-color: #E2EBFA;\n",
              "      box-shadow: 0px 1px 2px rgba(60, 64, 67, 0.3), 0px 1px 3px 1px rgba(60, 64, 67, 0.15);\n",
              "      fill: #174EA6;\n",
              "    }\n",
              "\n",
              "    .colab-df-buttons div {\n",
              "      margin-bottom: 4px;\n",
              "    }\n",
              "\n",
              "    [theme=dark] .colab-df-convert {\n",
              "      background-color: #3B4455;\n",
              "      fill: #D2E3FC;\n",
              "    }\n",
              "\n",
              "    [theme=dark] .colab-df-convert:hover {\n",
              "      background-color: #434B5C;\n",
              "      box-shadow: 0px 1px 3px 1px rgba(0, 0, 0, 0.15);\n",
              "      filter: drop-shadow(0px 1px 2px rgba(0, 0, 0, 0.3));\n",
              "      fill: #FFFFFF;\n",
              "    }\n",
              "  </style>\n",
              "\n",
              "    <script>\n",
              "      const buttonEl =\n",
              "        document.querySelector('#df-5337332d-26fa-45f2-bb2c-41f164c4ccfe button.colab-df-convert');\n",
              "      buttonEl.style.display =\n",
              "        google.colab.kernel.accessAllowed ? 'block' : 'none';\n",
              "\n",
              "      async function convertToInteractive(key) {\n",
              "        const element = document.querySelector('#df-5337332d-26fa-45f2-bb2c-41f164c4ccfe');\n",
              "        const dataTable =\n",
              "          await google.colab.kernel.invokeFunction('convertToInteractive',\n",
              "                                                    [key], {});\n",
              "        if (!dataTable) return;\n",
              "\n",
              "        const docLinkHtml = 'Like what you see? Visit the ' +\n",
              "          '<a target=\"_blank\" href=https://colab.research.google.com/notebooks/data_table.ipynb>data table notebook</a>'\n",
              "          + ' to learn more about interactive tables.';\n",
              "        element.innerHTML = '';\n",
              "        dataTable['output_type'] = 'display_data';\n",
              "        await google.colab.output.renderOutput(dataTable, element);\n",
              "        const docLink = document.createElement('div');\n",
              "        docLink.innerHTML = docLinkHtml;\n",
              "        element.appendChild(docLink);\n",
              "      }\n",
              "    </script>\n",
              "  </div>\n",
              "\n",
              "\n",
              "<div id=\"df-bfba5127-f353-4690-9c53-b8142eda54ff\">\n",
              "  <button class=\"colab-df-quickchart\" onclick=\"quickchart('df-bfba5127-f353-4690-9c53-b8142eda54ff')\"\n",
              "            title=\"Suggest charts\"\n",
              "            style=\"display:none;\">\n",
              "\n",
              "<svg xmlns=\"http://www.w3.org/2000/svg\" height=\"24px\"viewBox=\"0 0 24 24\"\n",
              "     width=\"24px\">\n",
              "    <g>\n",
              "        <path d=\"M19 3H5c-1.1 0-2 .9-2 2v14c0 1.1.9 2 2 2h14c1.1 0 2-.9 2-2V5c0-1.1-.9-2-2-2zM9 17H7v-7h2v7zm4 0h-2V7h2v10zm4 0h-2v-4h2v4z\"/>\n",
              "    </g>\n",
              "</svg>\n",
              "  </button>\n",
              "\n",
              "<style>\n",
              "  .colab-df-quickchart {\n",
              "      --bg-color: #E8F0FE;\n",
              "      --fill-color: #1967D2;\n",
              "      --hover-bg-color: #E2EBFA;\n",
              "      --hover-fill-color: #174EA6;\n",
              "      --disabled-fill-color: #AAA;\n",
              "      --disabled-bg-color: #DDD;\n",
              "  }\n",
              "\n",
              "  [theme=dark] .colab-df-quickchart {\n",
              "      --bg-color: #3B4455;\n",
              "      --fill-color: #D2E3FC;\n",
              "      --hover-bg-color: #434B5C;\n",
              "      --hover-fill-color: #FFFFFF;\n",
              "      --disabled-bg-color: #3B4455;\n",
              "      --disabled-fill-color: #666;\n",
              "  }\n",
              "\n",
              "  .colab-df-quickchart {\n",
              "    background-color: var(--bg-color);\n",
              "    border: none;\n",
              "    border-radius: 50%;\n",
              "    cursor: pointer;\n",
              "    display: none;\n",
              "    fill: var(--fill-color);\n",
              "    height: 32px;\n",
              "    padding: 0;\n",
              "    width: 32px;\n",
              "  }\n",
              "\n",
              "  .colab-df-quickchart:hover {\n",
              "    background-color: var(--hover-bg-color);\n",
              "    box-shadow: 0 1px 2px rgba(60, 64, 67, 0.3), 0 1px 3px 1px rgba(60, 64, 67, 0.15);\n",
              "    fill: var(--button-hover-fill-color);\n",
              "  }\n",
              "\n",
              "  .colab-df-quickchart-complete:disabled,\n",
              "  .colab-df-quickchart-complete:disabled:hover {\n",
              "    background-color: var(--disabled-bg-color);\n",
              "    fill: var(--disabled-fill-color);\n",
              "    box-shadow: none;\n",
              "  }\n",
              "\n",
              "  .colab-df-spinner {\n",
              "    border: 2px solid var(--fill-color);\n",
              "    border-color: transparent;\n",
              "    border-bottom-color: var(--fill-color);\n",
              "    animation:\n",
              "      spin 1s steps(1) infinite;\n",
              "  }\n",
              "\n",
              "  @keyframes spin {\n",
              "    0% {\n",
              "      border-color: transparent;\n",
              "      border-bottom-color: var(--fill-color);\n",
              "      border-left-color: var(--fill-color);\n",
              "    }\n",
              "    20% {\n",
              "      border-color: transparent;\n",
              "      border-left-color: var(--fill-color);\n",
              "      border-top-color: var(--fill-color);\n",
              "    }\n",
              "    30% {\n",
              "      border-color: transparent;\n",
              "      border-left-color: var(--fill-color);\n",
              "      border-top-color: var(--fill-color);\n",
              "      border-right-color: var(--fill-color);\n",
              "    }\n",
              "    40% {\n",
              "      border-color: transparent;\n",
              "      border-right-color: var(--fill-color);\n",
              "      border-top-color: var(--fill-color);\n",
              "    }\n",
              "    60% {\n",
              "      border-color: transparent;\n",
              "      border-right-color: var(--fill-color);\n",
              "    }\n",
              "    80% {\n",
              "      border-color: transparent;\n",
              "      border-right-color: var(--fill-color);\n",
              "      border-bottom-color: var(--fill-color);\n",
              "    }\n",
              "    90% {\n",
              "      border-color: transparent;\n",
              "      border-bottom-color: var(--fill-color);\n",
              "    }\n",
              "  }\n",
              "</style>\n",
              "\n",
              "  <script>\n",
              "    async function quickchart(key) {\n",
              "      const quickchartButtonEl =\n",
              "        document.querySelector('#' + key + ' button');\n",
              "      quickchartButtonEl.disabled = true;  // To prevent multiple clicks.\n",
              "      quickchartButtonEl.classList.add('colab-df-spinner');\n",
              "      try {\n",
              "        const charts = await google.colab.kernel.invokeFunction(\n",
              "            'suggestCharts', [key], {});\n",
              "      } catch (error) {\n",
              "        console.error('Error during call to suggestCharts:', error);\n",
              "      }\n",
              "      quickchartButtonEl.classList.remove('colab-df-spinner');\n",
              "      quickchartButtonEl.classList.add('colab-df-quickchart-complete');\n",
              "    }\n",
              "    (() => {\n",
              "      let quickchartButtonEl =\n",
              "        document.querySelector('#df-bfba5127-f353-4690-9c53-b8142eda54ff button');\n",
              "      quickchartButtonEl.style.display =\n",
              "        google.colab.kernel.accessAllowed ? 'block' : 'none';\n",
              "    })();\n",
              "  </script>\n",
              "</div>\n",
              "\n",
              "    </div>\n",
              "  </div>\n"
            ],
            "application/vnd.google.colaboratory.intrinsic+json": {
              "type": "dataframe",
              "variable_name": "comparison",
              "summary": "{\n  \"name\": \"comparison\",\n  \"rows\": 2787,\n  \"fields\": [\n    {\n      \"column\": \"Actual Sale Price\",\n      \"properties\": {\n        \"dtype\": \"number\",\n        \"std\": 313855.56278519146,\n        \"min\": 74900.0,\n        \"max\": 2639300.0,\n        \"num_unique_values\": 867,\n        \"samples\": [\n          314500.0,\n          141800.0,\n          280000.0\n        ],\n        \"semantic_type\": \"\",\n        \"description\": \"\"\n      }\n    },\n    {\n      \"column\": \"Predicted Sale Price\",\n      \"properties\": {\n        \"dtype\": \"number\",\n        \"std\": 270400.93705390126,\n        \"min\": -269213.25679501786,\n        \"max\": 1737290.5904854971,\n        \"num_unique_values\": 2786,\n        \"samples\": [\n          446833.5234956994,\n          357548.53775096353,\n          361408.22512878745\n        ],\n        \"semantic_type\": \"\",\n        \"description\": \"\"\n      }\n    },\n    {\n      \"column\": \"Difference\",\n      \"properties\": {\n        \"dtype\": \"number\",\n        \"std\": 169075.8946678334,\n        \"min\": -787036.6930277133,\n        \"max\": 1286922.6415949438,\n        \"num_unique_values\": 2787,\n        \"samples\": [\n          -176833.5234956994,\n          29451.46224903647,\n          8591.774871212547\n        ],\n        \"semantic_type\": \"\",\n        \"description\": \"\"\n      }\n    }\n  ]\n}"
            }
          },
          "metadata": {},
          "execution_count": 81
        }
      ],
      "source": [
        "# Creating a comparison dataframe\n",
        "comparison = pd.DataFrame({\n",
        "    \"Actual Sale Price\": y_test,\n",
        "    \"Predicted Sale Price\": y_preds,\n",
        "    \"Difference\": y_test - y_preds\n",
        "})\n",
        "\n",
        "\n",
        "comparison.head()"
      ]
    },
    {
      "cell_type": "code",
      "execution_count": null,
      "metadata": {
        "colab": {
          "base_uri": "https://localhost:8080/",
          "height": 523
        },
        "id": "gbbKUw74RMbX",
        "outputId": "8dd27ebc-5a76-421b-ae74-02d3c17d4810"
      },
      "outputs": [
        {
          "output_type": "execute_result",
          "data": {
            "text/plain": [
              "<seaborn.axisgrid.FacetGrid at 0x7f5664ed5060>"
            ]
          },
          "metadata": {},
          "execution_count": 82
        },
        {
          "output_type": "display_data",
          "data": {
            "text/plain": [
              "<Figure size 500x500 with 1 Axes>"
            ],
            "image/png": "[encoded data removed]"
          },
          "metadata": {}
        }
      ],
      "source": [
        "sns.displot(comparison, x=\"Difference\", bins=50) # Create a dist plot to see the differences"
      ]
    },
    {
      "cell_type": "code",
      "execution_count": null,
      "metadata": {
        "colab": {
          "base_uri": "https://localhost:8080/"
        },
        "id": "RsEoTTwTRnfg",
        "outputId": "b5b71129-febe-40d0-f048-376b8ece228a"
      },
      "outputs": [
        {
          "output_type": "execute_result",
          "data": {
            "text/plain": [
              "['model.joblib']"
            ]
          },
          "metadata": {},
          "execution_count": 83
        }
      ],
      "source": [
        "# Saving my model\n",
        "from joblib import dump, load\n",
        "\n",
        "dump(ridge_regressor, \"model.joblib\")"
      ]
    }
  ],
  "metadata": {
    "colab": {
      "provenance": [],
      "authorship_tag": "ABX9TyNDVGdVPp1M+Qvxd37HMXnp",
      "include_colab_link": true
    },
    "kernelspec": {
      "display_name": "Python 3",
      "name": "python3"
    },
    "language_info": {
      "name": "python"
    }
  },
  "nbformat": 4,
  "nbformat_minor": 0
}